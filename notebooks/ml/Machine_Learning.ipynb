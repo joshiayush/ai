{
  "cells": [
    {
      "cell_type": "markdown",
      "metadata": {
        "id": "view-in-github"
      },
      "source": [
        "<a href=\"https://colab.research.google.com/github/Rishabh-Dhami/ai/blob/formatting-fixes/notebooks/ml/Machine_Learning.ipynb\" target=\"_parent\"><img src=\"https://colab.research.google.com/assets/colab-badge.svg\" alt=\"Open In Colab\"/></a>"
      ]
    },
    {
      "cell_type": "markdown",
      "metadata": {
        "id": "TwWj-1U8BrAv"
      },
      "source": [
        "# Introduction to ML\n",
        "\n",
        "Machine learning is a field of inquiry devoted to understanding and building methods that **'learn'**, that is, methods that leverage data to improve performance on some set of tasks. It is seen as a part of artificial intelligence."
      ]
    },
    {
      "cell_type": "markdown",
      "metadata": {
        "id": "-SuJOQJjvnxK"
      },
      "source": [
        "## Key ML Terminology"
      ]
    },
    {
      "cell_type": "markdown",
      "metadata": {
        "id": "qEyTqDq--kED"
      },
      "source": [
        "### Framing\n",
        "\n",
        "What is (supervised) machine learning? Concisely put, it is the following:\n",
        "\n",
        "* ML systems learn how to combine input to produce useful predictions on never-before-seen data.\n",
        "\n",
        "Let's explore fundamental machine learning terminology.\n",
        "\n",
        "### Labels\n",
        "\n",
        "A **label** is the thing we are predicting - the `y` variable in simple linear regression. The label could be the future price of wheat, the kind of animal shown in the picture, the meaning of an audio clip, or just about anything.\n",
        "\n",
        "### Features\n",
        "\n",
        "A **feature** is an input variable - the `x` variable in simple linera regression. A simple machine learning project might use a single feature, while a more sophisticated machine learning project could use millions of features, specified as:\n",
        "\n",
        "$$x1,x2,...,xn$$\n",
        "\n",
        "In the \"spam detector\" example, the features could include the following:\n",
        "\n",
        "* words in the email text\n",
        "* sender's address\n",
        "* time of day the email was sent\n",
        "* email contains the phrase \"one weird trick.\"\n",
        "\n",
        "### Examples\n",
        "\n",
        "An **example** is a particular instance of data, **x**. (We put **x** in boldface to indicate that it is a vector.) We break **examples** into two categories:\n",
        "\n",
        "* labeled examples\n",
        "* unlabeled examples\n",
        "\n",
        "A **labeled example** includes both feature(s) and the label. That is:\n",
        "\n",
        "```\n",
        "labeled examples: {features, label}: (x, y)\n",
        "```\n",
        "\n",
        "Use **labeled examples** to train the model. In our \"span detector\" example, the labeled examples would be individual emails that users have explicitly marked as \"spam\" or \"not spam.\"\n",
        "\n",
        "For example, the following table shows 5 labeled examples from a data set containing information about housing prices in California:\n",
        "\n",
        "**HousingMedianAge (feature)** | **TotalRooms (feature)** | **TotalBedrooms (feature)** | **MedianHouseValue (feature)**\n",
        ":--|:--:|:--:|--:\n",
        "15 | 5612 | 1283 | 66900\n",
        "19 | 7650 | 1901 | 80100\n",
        "17 | 720 | 174 | 85700\n",
        "14 |\t1501 |\t337\t| 73400\n",
        "20\t| 1454 |\t326 |\t65500\n",
        "\n",
        "An **unlabeled example** contains feature(s) but not the label. That is:\n",
        "\n",
        "```\n",
        "unlabeled examples: {features, ?}: (x, ?)\n",
        "```\n",
        "\n",
        "Here are 3 unlabeled examples from the same housing dataset, which exclude **`MedianHouseValue`**:\n",
        "\n",
        "**HousingMedianAge (feature)** |\t**TotalRooms (feature)** |\t**TotalBedrooms (feature)**\n",
        ":--|:--:|--:\n",
        "42 |\t1686 |\t361\n",
        "34 |\t1226 |\t180\n",
        "33 |\t1077 |\t271\n",
        "\n",
        "Once we've trained our model with labeled examples, we use that model to predict the label on unlabeled examples. In the spam detector, unlabeled examples are new emails that humans haven't yet labeled.\n",
        "\n",
        "### Models\n",
        "\n",
        "A model defines the relationship between feature(s) and label. For example, a span detector might associate certain features strongly with \"spam\". Let's highlight two phases of a model's life:\n",
        "\n",
        "* **Training** means **creating** or **learning** the model. That is, you show the model labeled examples and enable the model to gradually learn the relationships between features and label.\n",
        "\n",
        "* **Inference** means applying the trained model to unlabeled examples. That is, you use the trained model to make useful predictions (`y'`). For example, during **inference**, you can predict **MedianHouseValue** for new unlabeled examples.\n",
        "\n",
        "### Regression vs. classification\n",
        "\n",
        "A **regression** model predicts continuous values. For example, regression models make predictions that answer questions like the following:\n",
        "\n",
        "* What is the value of a house in California?\n",
        "* What is the probability that a user will click on this ad?\n",
        "\n",
        "A **classification** model predicts discrete values. For example, classification models make predictions that answer questions like the following:\n",
        "\n",
        "* Is a given email message spam or not spam?\n",
        "* Is this an image of a dog, a cat, or a hamster?"
      ]
    },
    {
      "cell_type": "markdown",
      "metadata": {
        "id": "xiqLWGkH-kEJ"
      },
      "source": [
        "# Descending into ML\n",
        "\n",
        "Linear regression is a method for finding the straight line or hyperplane that best fits a set of points."
      ]
    },
    {
      "cell_type": "markdown",
      "metadata": {
        "id": "Rx3KKr-S-kEK"
      },
      "source": [
        "## Linear Regression\n",
        "\n",
        "It has long been known that crickets (an insect species) chirp more frequently on hotter days than on cooler days. For decades, professional and amateur scientists have cataloged data on chirps-per-minute and temperature. As a birthday gift, your Aunt Ruth gives you her cricket database and asks you to learn a model to predict this relationship. Using this data, you want to explore this relationship.\n",
        "\n",
        "First, examine your data by plotting it:\n",
        "\n",
        "<div align='center'>\n",
        "  <img src='https://developers.google.com/static/machine-learning/crash-course/images/CricketPoints.svg' />\n",
        "\n",
        "  <strong>Figure 1. Chirps per Minute vs. Temperature in Celsius.</strong>\n",
        "</div>\n",
        "\n",
        "As expected, the plot shows the temperature rising with the number of chirps. Is this relationship between chirps and temperature linear? Yes, you could draw a single straight line like the following to approximate this relationship:\n",
        "\n",
        "<div align='center'>\n",
        "  <img src='https://developers.google.com/static/machine-learning/crash-course/images/CricketLine.svg' />\n",
        "\n",
        "  <strong>Figure 2. A linear relationship.</strong>\n",
        "</div>\n",
        "\n",
        "True, the line doesn't pass through every dot, but the line does clearly show the relationship between chirps and temperature. Using the equation for a line, you could write down this relationship as follows:\n",
        "\n",
        "$$y=mx+b$$\n",
        "\n",
        "where:\n",
        "\n",
        "*  $y$ is the temperature in Celsius — the value we're trying to predict.\n",
        "* $m$ is the slope of the line.\n",
        "* $x$ is the number of chirps per minute — the value of our input feature.\n",
        "* $b$ is the y-intercept.\n",
        "\n",
        "By convention in machine learning, you'll write the equation for a model slightly differently:\n",
        "\n",
        "$$y^\\prime=b+w_{1}x_{1}$$\n",
        "\n",
        "where:\n",
        "\n",
        "* $y^\\prime$ is a predicted [label](https://developers.google.com/machine-learning/crash-course/framing/ml-terminology#labels) (a desired output).\n",
        "* $b$ is the bias (the y-intercept), sometimes referred to as $w_{0}$.\n",
        "* $w_{1}$ is the [weight](https://developers.google.com/machine-learning/glossary#weight) of feature 1. Weight is the same concept as the \"slope\" $m$ in the traditional equation of a line.\n",
        "* $x_{1}$ is a [feature](https://developers.google.com/machine-learning/crash-course/framing/ml-terminology#features) (a known input).\n",
        "\n",
        "To **infer** (predict) the temprature $y^\\prime$ for new chirps-per-minute value $x_{1}$, just substitute the $x_{1}$ value into this model.\n",
        "\n",
        "Although this model uses only one feature, a more sophisticated model might rely on multiple features, each having a separate weight ($w_{1}$, $w_{2}$, etc.). For example, a model that relies on three features might look as follows:\n",
        "\n",
        "$$y^\\prime=b+w_{1}x_{1}+w_{2}x_{2}+w_{3}x_{3}$$"
      ]
    },
    {
      "cell_type": "markdown",
      "metadata": {
        "id": "DUJXp81s-kEO"
      },
      "source": [
        "## Training and Loss\n",
        "\n",
        "**Training** a model simply means learning (determining) good values for all the weights and the bias from labeled examples. In supervised learning, a machine learning algorithm builds a model by examining many examples and attempting to find a model that minimizes loss; this process is called **empirical risk minimization**.\n",
        "\n",
        "Loss is the penalty for a bad prediction. That is, **loss** is a number indicating how bad the model's prediction was on a single example. If the model's prediction is perfect, the loss is zero; otherwise, the loss is greater. The goal of training a model is to find a set of weights and biases that have low loss, on average, across all examples. For example, Figure 3 shows a high loss model on the left and a low loss model on the right. Note the following about the figure:\n",
        "\n",
        "* The arrows represent loss.\n",
        "* The blue lines represent predictions.\n",
        "\n",
        "<div algin='center'>\n",
        "  <img src='https://developers.google.com/machine-learning/crash-course/images/LossSideBySide.png' />\n",
        "\n",
        "  <strong>Figure 3. High loss in the left model; low loss in the right model.</strong>\n",
        "</div>\n",
        "\n",
        "Notice that the arrows in the left plot are much longer than their counterparts in the right plot. Clearly, the line in the right plot is a much better predictive model than the line in the left plot.\n",
        "\n",
        "You might be wondering whether you could create a mathematical function — a loss function — that would aggregate the individual losses in a meaningful fashion."
      ]
    },
    {
      "cell_type": "markdown",
      "metadata": {
        "id": "7ZRbciVN-kEP"
      },
      "source": [
        "### Squared loss: a popular loss function\n",
        "\n",
        "The linear regression models we'll examine here use a loss function called **squared loss** (also known as **L2 loss**). The **squared loss** for a single example is as follows:\n",
        "\n",
        "```\n",
        "  = the square of the difference between the label and the prediction\n",
        "  = (observation - prediction(x))2\n",
        "  = (y - y')2\n",
        "```\n",
        "\n",
        "**Mean square error (MSE)** is the average squared loss per example over the whole dataset. To calculate **MSE**, sum up all the squared losses for individual examples and then divide by the number of examples:\n",
        "\n",
        "<div class=\"math-jax-block\">\n",
        "\n",
        "$$\\mathrm{MSE}=\\dfrac{1}{N}\\sum_{(x,y) \\in D} (y - \\mathrm{prediction}(x))^2$$\n",
        "\n",
        "</div>\n",
        "\n",
        "where:\n",
        "\n",
        "* $(x,y)$ is an example in which\n",
        "  * $x$ is a set of features (for example chirps/minute, age, gender) that the model uses to make predictions.\n",
        "  * $y$ is the example's label (for example, temprature).\n",
        "* $prediction(x)$ is a function of the weights and bias in combination with the sets of features $x$.\n",
        "* $D$ is a dataset containing many labeled examples, which are $(x,y)$ pairs.\n",
        "* $N$ is the number of examples in $D$.\n",
        "\n",
        "Although MSE is commonly-used in machine learning, it is neither the only practical loss function nor the best loss function for all circumstances."
      ]
    },
    {
      "cell_type": "markdown",
      "metadata": {
        "id": "Wrl34gpJ-kEQ"
      },
      "source": [
        "# Reducing Loss\n",
        "\n",
        "To train a model, we need a good way to reduce the model’s loss. An iterative approach is one widely used method for reducing loss, and is as easy and efficient as walking down a hill."
      ]
    },
    {
      "cell_type": "markdown",
      "metadata": {
        "id": "6FOcLrAG-kEU"
      },
      "source": [
        "## An iterative approach\n",
        "\n",
        "Iterative learning might remind you of the \"[Hot and Cold](http://www.howcast.com/videos/258352-how-to-play-hot-and-cold/)\" kid's game for finding a hidden object like a thimble. In this game, the \"hidden object\" is the best possible model. You'll start with a wild guess (\"The value of $w_{1}$ is $0$.\") and wait for the system to tell you what the loss is. Then, you'll try another guess (\"The value of $w_{1}$ is $0.5$.\") and see what the loss is. Aah, you're getting warmer. Actually, if you play this game right, you'll usually be getting warmer. The real trick to the game is trying to find the best possible model as efficiently as possible.\n",
        "\n",
        "The following figure suggests the iterative trial-and-error process that machine learning algorithms use to train a model:\n",
        "\n",
        "<div align='center'>\n",
        "  <img src=\"https://developers.google.com/static/machine-learning/crash-course/images/GradientDescentDiagram.svg\" />\n",
        "\n",
        "  <strong>Figure 1. An iterative approach to training a model.</strong>\n",
        "</div>\n",
        "\n",
        "Iterative strategies are prevalent in machine learning, primarily because they scale so well to large data sets.\n",
        "\n",
        "The \"model\" takes one or more features as input and returns one prediction ($y′$) as output. To simplify, consider a model that takes one feature and returns one prediction:\n",
        "\n",
        "$$y′=b+w_{1}x_{1}$$\n",
        "\n",
        "What initial values should we set for $b$ and $w_{1}$? For linear regression problems, it turns out that the starting values aren't important. We could pick random values, but we'll just take the following trivial values instead:\n",
        "\n",
        "* $b=0$\n",
        "* $w_{1}=0$\n",
        "\n",
        "Suppose that the first feature value is 10. Plugging that feature value into the prediction function yields:\n",
        "\n",
        "$$y′=0+0⋅10=0$$\n",
        "\n",
        "The \"Compute Loss\" part of the diagram is the [loss function](https://developers.google.com/machine-learning/crash-course/descending-into-ml/training-and-loss) that the model will use. Suppose we use the squared loss function. The loss function takes in two input values:\n",
        "\n",
        "* $y′$: The model's prediction for features $x$\n",
        "* $y$: The correct label corresponding to features $x$\n",
        "\n",
        "At last, we've reached the \"Compute parameter updates\" part of the diagram. It is here that the machine learning system examines the value of the loss function and generates new values for $b$ and $w_{1}$. For now, just assume that this mysterious box devises new values and then the machine learning system re-evaluates all those features against all those labels, yielding a new value for the loss function, which yields new parameter values. And the learning continues iterating until the algorithm discovers the model parameters with the lowest possible loss. Usually, you iterate until overall loss stops changing or at least changes extremely slowly. When that happens, we say that the model has [**converged**](https://developers.google.com/machine-learning/glossary#convergence)."
      ]
    },
    {
      "cell_type": "markdown",
      "metadata": {
        "id": "T-W-yrcM-kEX"
      },
      "source": [
        "## Gradient Descent\n",
        "\n",
        "The iterative approach diagram contained a green hand-wavy box entitled \"Compute parameter updates.\" We'll now replace that algorithmic fairy dust with something more substantial."
      ]
    },
    {
      "cell_type": "markdown",
      "metadata": {
        "id": "iTl8jQmK-kEc"
      },
      "source": [
        "Suppose we had the time and the computing resources to calculate the loss for all possible values of $w_{1}$. For the kind of regression problems we've been examining, the resulting plot of loss vs. $w_{1}$ will always be convex. In other words, the plot will always be bowl-shaped, kind of like this:"
      ]
    },
    {
      "cell_type": "markdown",
      "metadata": {
        "id": "dz3oo55C-kEe"
      },
      "source": [
        "<div align='center'>\n",
        "  <img src=\"https://developers.google.com/static/machine-learning/crash-course/images/convex.svg\" />\n",
        "\n",
        "  <strong>Figure 2. Regression problems yield convex loss vs. weight plots.</strong>\n",
        "</div>"
      ]
    },
    {
      "cell_type": "markdown",
      "metadata": {
        "id": "GGhnqcon-kEg"
      },
      "source": [
        "Convex problems have only one minimum; that is, only one place where the slope is exactly 0. That minimum is where the loss function converges.\n",
        "\n",
        "Calculating the loss function for every conceivable value of $w_{1}$ over the entire data set would be an inefficient way of finding the convergence point. Let's examine a better mechanism—very popular in machine learning—called **gradient descent**.\n",
        "\n",
        "The first stage in gradient descent is to pick a starting value (a starting point) for $w_{1}$. The starting point doesn't matter much; therefore, many algorithms simply set $w_{1}$ to $0$ or pick a random value. The following figure shows that we've picked a starting point slightly greater than $0$:"
      ]
    },
    {
      "cell_type": "markdown",
      "metadata": {
        "id": "XukX9TZN-kEh"
      },
      "source": [
        "<div align='center'>\n",
        "  <img src='https://developers.google.com/static/machine-learning/crash-course/images/GradientDescentStartingPoint.svg' />\n",
        "  \n",
        "  <strong>Figure 3. A starting point for gradient descent.</strong>\n",
        "</div>"
      ]
    },
    {
      "cell_type": "markdown",
      "metadata": {
        "id": "k0QmGtyC-kEi"
      },
      "source": [
        "The gradient descent algorithm then calculates the gradient of the loss curve at the starting point. Here in this Figure, the gradient of the loss is equal to the [derivative](https://wikipedia.org/wiki/Differential_calculus#The_derivative) (slope) of the curve, and tells you which way is \"warmer\" or \"colder.\" When there are multiple weights, the gradient is a vector of partial derivatives with respect to the weights."
      ]
    },
    {
      "cell_type": "markdown",
      "metadata": {
        "id": "2ww_X754-kEj"
      },
      "source": [
        "### Partial derivatives\n",
        "\n",
        "A **multivariable function** is a function with more than one argument, such as:\n",
        "\n",
        "$$f(x,y)=e^{2y}\\mathrm{sin}(x)$$\n",
        "\n",
        "The **partial derivate** $f$ **with respect to** $x$, denoted as follows:\n",
        "\n",
        "$$\\dfrac{∂f}{∂x}$$\n",
        "\n",
        "is a derivative of $f$ considered as a function of $x$ alone. To find the following:\n",
        "\n",
        "$$\\dfrac{∂f}{∂x}$$\n",
        "\n",
        "so must hold $y$ constant (so $f$ is now a function of one variable $x$), and take the regular derivative of $f$ with respect to $x$. For example, when $y$ is fixed at $1$, the preceding function becomes:\n",
        "\n",
        "$$f(x)=e^{2}\\mathrm{sin}(x)$$\n",
        "\n",
        "This is just a function of one variable $x$, whose derivative is:\n",
        "\n",
        "$$e^{2}\\mathrm{cos}(x)$$\n",
        "\n",
        "In general, thinking of $y$ as fixed, the partial derivative of $f$ with respect to $x$ is calculated as follows:\n",
        "\n",
        "$$\\dfrac{∂f}{∂x}(x,y)=e^{2y}\\mathrm{sin}(x)$$\n",
        "\n",
        "Similarly, if we hold $x$ fixed instead, the partial derivative of $f$ with respect to $y$ is:\n",
        "\n",
        "$$\\dfrac{∂f}{∂x}(x,y)=2e^{2y}\\mathrm{sin}(x)$$\n",
        "\n",
        "Intuitively, a partial derivative tells how much the function changes when you perturb one variable a bit. In the preceding example:\n",
        "\n",
        "$$\\dfrac{\\partial f}{\\partial x}(0,1)=e^2 \\approx 7.4$$\n",
        "\n",
        "So when you start at $(0,1)$, hold $y$ constant, and move $x$ a little, $f$ changes by about $7.4$ times the amount that you changed $x$.\n",
        "\n",
        "In machine learning, partial derivatives are mostly used in conjunction with the gradient of a function."
      ]
    },
    {
      "cell_type": "markdown",
      "metadata": {
        "id": "N2zYKrDk-kEk"
      },
      "source": [
        "### Gradients\n",
        "\n",
        "The **gradient** of a function, denoted as follows, is the vector of partial derivatives with respect to all of the independent variables:\n",
        "\n",
        "$$∇f$$\n",
        "\n",
        "For instance, if:\n",
        "\n",
        "$$f(x,y)=e^{2y}\\mathrm{sin}(x)$$\n",
        "\n",
        "then:\n",
        "\n",
        "<div class=\"math-jax-block\">\n",
        "\n",
        "$$∇f(x,y)= \\left( \\dfrac{\\partial f}{\\partial x}(x,y), \\dfrac{\\partial f}{\\partial y}(x,y) \\right)=(e^{2y}\\mathrm{cos}(x), 2e^{2y}\\mathrm{sin}(x))$$\n",
        "\n",
        "</div>\n",
        "\n",
        "Note the following:\n",
        "\n",
        "* $∇f$ - Points in the direction of greatest increase of the function.\n",
        "* $−∇f$ - Points in the direction of greatest decrease of the function.\n",
        "\n",
        "The number of dimensions in a vector is equal to the number of variables in the formula for $f$; in other words, the vector falls within the domain space of the function. For instance, the graph of the following function $f(x,y)$:\n",
        "\n",
        "<div class=\"math-jax-block\">\n",
        "\n",
        "$$f(x,y)=4+(x−2)^2+2y^2$$\n",
        "\n",
        "</div>\n",
        "\n",
        "when viewed in three dimensions with $z=f(x,y)$ looks like a valley with a minimum at $(2,0,4)$:"
      ]
    },
    {
      "cell_type": "markdown",
      "metadata": {
        "id": "qsQx2XOS-kEl"
      },
      "source": [
        "<div align='center'>\n",
        "  <img src='https://developers.google.com/static/machine-learning/crash-course/images/ThreeDimensionalPlot.svg' />\n",
        "</div>"
      ]
    },
    {
      "cell_type": "markdown",
      "metadata": {
        "id": "Glj-ONev-kEm"
      },
      "source": [
        "The gradient of $f(x,y)$ is a two-dimensional vector that tells you in which $(x,y)$ direction to move for the maximum increase in height. Thus, the negative of the gradient moves you in the direction of maximum decrease in height. In other words, the negative of the gradient vector points into the valley.\n",
        "\n",
        "In machine learning, gradients are used in gradient descent. We often have a loss function of many variables that we are trying to minimize, and we try to do this by following the negative of the gradient of the function."
      ]
    },
    {
      "cell_type": "markdown",
      "metadata": {
        "id": "VtIv2i3C-kEn"
      },
      "source": [
        "Okay, so comming back to our gradient descent. We've found that a gradient is a vector that has both of the following characterstics:\n",
        "\n",
        "* A direction\n",
        "* A magnitude\n",
        "\n",
        "The gradient always points in the direction of steepest increase in the loss function. The gradient descent algorithm takes a step in the direction of the negative gradient in order to reduce loss as quickly as possible."
      ]
    },
    {
      "cell_type": "markdown",
      "metadata": {
        "id": "j25-DL6y-kEo"
      },
      "source": [
        "<div align='center'>\n",
        "  <img src='https://developers.google.com/static/machine-learning/crash-course/images/GradientDescentNegativeGradient.svg' />\n",
        "\n",
        "  <strong>Figure 4. Gradient descent relies on negative gradients.</strong>\n",
        "</div>"
      ]
    },
    {
      "cell_type": "markdown",
      "metadata": {
        "id": "78ji-YeP-kEq"
      },
      "source": [
        "To determine the next point along the loss function curve, the gradient descent algorithm adds some fraction of the gradient's magnitude to the starting point as shown in the following figure:"
      ]
    },
    {
      "cell_type": "markdown",
      "metadata": {
        "id": "NfgOr6r1-kEs"
      },
      "source": [
        "<div align='center'>\n",
        "  <img src='https://developers.google.com/static/machine-learning/crash-course/images/GradientDescentGradientStep.svg' />\n",
        "\n",
        "  <strong>Figure 5. A gradient step moves us to the next point on the loss curve.</strong>\n",
        "</div>"
      ]
    },
    {
      "cell_type": "markdown",
      "metadata": {
        "id": "t6qmr3td-kEu"
      },
      "source": [
        "The gradient descent then repeats this process, edging ever closer to the minimum."
      ]
    },
    {
      "cell_type": "markdown",
      "metadata": {
        "id": "1kaInWG7-kEw"
      },
      "source": [
        "## Learning Rate\n",
        "\n",
        "As noted, the gradient vector has both a direction and a magnitude. Gradient descent algorithms multiply the gradient by a scalar known as the **learning rate** (also sometimes called **step size**) to determine the next point. For example, if the gradient magnitude is $2.5$ and the learning rate is $0.01$, then the gradient descent algorithm will pick the next point $0.025$ away from the previous point.\n",
        "\n",
        "**Hyperparameters** are the knobs that programmers tweak in machine learning algorithms. Most machine learning programmers spend a fair amount of time tuning the learning rate. If you pick a learning rate that is too small, learning will take too long:"
      ]
    },
    {
      "cell_type": "markdown",
      "metadata": {
        "id": "3F6qbBj4-kEy"
      },
      "source": [
        "<div align='center'>\n",
        "  <img src='https://developers.google.com/static/machine-learning/crash-course/images/LearningRateTooSmall.svg' />\n",
        "\n",
        "  <strong>Figure 6. Learning rate is too small.</strong>\n",
        "</div>"
      ]
    },
    {
      "cell_type": "markdown",
      "metadata": {
        "id": "NyvfovyK-kE1"
      },
      "source": [
        "Conversely, if you specify a learning rate that is too large, the next point will perpetually bounce haphazardly across the bottom of the well like a quantum mechanics experiment gone horribly wrong:"
      ]
    },
    {
      "cell_type": "markdown",
      "metadata": {
        "id": "GOC9B30t-kE2"
      },
      "source": [
        "<div align='center'>\n",
        "  <img src='https://developers.google.com/static/machine-learning/crash-course/images/LearningRateTooLarge.svg' />\n",
        "\n",
        "  <strong>Figure 7. Learning rate is too large.</strong>\n",
        "</div>"
      ]
    },
    {
      "cell_type": "markdown",
      "metadata": {
        "id": "_9WkM6UT-kE3"
      },
      "source": [
        "There's a [Goldilocks](https://wikipedia.org/wiki/Goldilocks_principle) learning rate for every regression problem. The Goldilocks value is related to how flat the loss function is. If you know the gradient of the loss function is small then you can safely try a larger learning rate, which compensates for the small gradient and results in a larger step size."
      ]
    },
    {
      "cell_type": "markdown",
      "metadata": {
        "id": "aiAeJiVv-kE4"
      },
      "source": [
        "<div align='center'>\n",
        "  <img src='https://developers.google.com/static/machine-learning/crash-course/images/LearningRateJustRight.svg' />\n",
        "\n",
        "  <strong>Figure 8. Learning rate is just right.</strong>\n",
        "</div>"
      ]
    },
    {
      "cell_type": "markdown",
      "metadata": {
        "id": "tmnM387P-kE5"
      },
      "source": [
        "The ideal learning rate in one-dimension is $\\dfrac{1}{f(x)″}$ (the inverse of the second derivative of $f(x)$ at $x$).\n",
        "\n",
        "The ideal learning rate for $2$ or more dimensions is the inverse of the [Hessian](https://wikipedia.org/wiki/Hessian_matrix) (matrix of second partial derivatives).\n",
        "\n",
        "The story for general convex functions is more complex."
      ]
    },
    {
      "cell_type": "markdown",
      "metadata": {
        "id": "9Ockh2u0-kE7"
      },
      "source": [
        "## Stochastic Gradient Descent\n",
        "\n",
        "**Stochastic Gradient Descent (SGD)** is an optimization algorithm used to find the minimum of a function. It is a type of gradient descent algorithm that is often used in machine learning and deep learning. It is called \"stochastic\" because it uses random samples of the data to estimate the gradient of the objective function, rather than using the entire dataset.\n",
        "\n",
        "Here's how it works:\n",
        "\n",
        "* The algorithm starts with an initial guess of the parameters.\n",
        "* It then selects a random sample of the data and calculates the gradient of the objective function with respect to the parameters using that sample.\n",
        "* The parameters are then updated in the direction opposite to the gradient.\n",
        "* This process is repeated until the parameters converge to a minimum of the objective function.\n",
        "\n",
        "One of the main advantage of stochastic gradient descent is that it is computationally efficient. Because it uses a random sample of the data at each step, it can be much faster than batch gradient descent, which uses the entire dataset to calculate the gradient. Additionally, because it uses random samples, it can \"escape\" from local minima and converge to a global minimum.\n",
        "\n",
        "An example of an application of **SGD** is Linear Regression, where the objective function is the mean squared error and the parameters are the weights of the model. Another example is Logistic Regression, where the objective function is the cross-entropy loss and the parameters are the weights of the model.\n",
        "\n",
        "It should be noted that the optimization speed of **SGD** can be affected by the choice of the learning rate and the shuffling of the data during each iteration. Also it is not guaranteed to find the global minimum because of the randomness but it can be useful in practice.\n",
        "\n",
        "In summary, **Stochastic Gradient Descent** is an optimization algorithm that is efficient and can help to find the global minimum of a function. It has been widely used in machine learning and deep learning tasks."
      ]
    },
    {
      "cell_type": "markdown",
      "metadata": {
        "id": "2VGxl0rL-kG9"
      },
      "source": [
        "# Generalization\n",
        "\n",
        "**Generalization** refers to your model's ability to adapt properly to new, previously unseen data, drawn from the same distribution as the one used to create the model."
      ]
    },
    {
      "cell_type": "markdown",
      "metadata": {
        "id": "p_xTEbhT-kG_"
      },
      "source": [
        "## Peril of Overfitting\n",
        "\n",
        "This module focuses on generalization. In order to develop some intuition about this concept, you're going to look at three figures. Assume that each dot in these figures represents a tree's position in a forest. The two colors have the following meanings:\n",
        "\n",
        "* The blue dots represent sick trees.\n",
        "* The orange dots represent healthy trees.\n",
        "\n",
        "With that in mind, take a look at Figure 1."
      ]
    },
    {
      "cell_type": "markdown",
      "metadata": {
        "id": "N11L1R6p-kHC"
      },
      "source": [
        "<div align='center'>\n",
        "  <img src='https://developers.google.com/machine-learning/crash-course/images/GeneralizationA.png' height='400px' />\n",
        "\n",
        "  <strong>Figure 1. Sick (blue) and healthy (orange) trees.</strong>\n",
        "</div>"
      ]
    },
    {
      "cell_type": "markdown",
      "metadata": {
        "id": "f3PYY2dL-kHE"
      },
      "source": [
        "Can you imagine a good model for predicting subsequent sick or healthy trees? Take a moment to mentally draw an arc that divides the blues from the oranges, or mentally [lasso](https://en.wikipedia.org/wiki/Lasso_(statistics)) a batch of oranges or blues. Then, look at Figure 2, which shows how a certain machine learning model separated the sick trees from the healthy trees. Note that this model produced a very low loss."
      ]
    },
    {
      "cell_type": "markdown",
      "metadata": {
        "id": "Z_LtXjKm-kHF"
      },
      "source": [
        "<div align='center'>\n",
        "  <img src='https://developers.google.com/machine-learning/crash-course/images/GeneralizationB.png' height='400px' />\n",
        "\n",
        "  <strong>Figure 2. A complex model for distinguishing sick from healthy trees.</strong>\n",
        "</div>"
      ]
    },
    {
      "cell_type": "markdown",
      "metadata": {
        "id": "3sdDwbnx-kHI"
      },
      "source": [
        "> At first glance, the model shown in Figure 2 appeared to do an excellent job of separating the healthy trees from the sick ones. Or did it?"
      ]
    },
    {
      "cell_type": "markdown",
      "metadata": {
        "id": "-h2RcTE--kHK"
      },
      "source": [
        "### Low loss, but still a bad model?\n",
        "\n",
        "Figure 3 shows what happened when we added new data to the model. It turned out that the model adapted very poorly to the new data. Notice that the model miscategorized much of the new data."
      ]
    },
    {
      "cell_type": "markdown",
      "metadata": {
        "id": "_rWyKrFk-kHM"
      },
      "source": [
        "<div align='center'>\n",
        "  <img src='https://developers.google.com/machine-learning/crash-course/images/GeneralizationC.png' height='400px' />\n",
        "\n",
        "  <strong>Figure 3. The model did a bad job predicting new data.</strong>\n",
        "</div>"
      ]
    },
    {
      "cell_type": "markdown",
      "metadata": {
        "id": "c7SuI8BD-kHP"
      },
      "source": [
        "The model shown in Figures 2 and 3 overfits the peculiarities of the data it trained on. An overfit model gets a low loss during training but does a poor job predicting new data. If a model fits the current sample well, how can we trust that it will make good predictions on new data? As you'll see [later on](https://developers.google.com/machine-learning/crash-course/regularization-for-simplicity/l2-regularization), overfitting is caused by making a model more complex than necessary. The fundamental tension of machine learning is between fitting our data well, but also fitting the data as simply as possible.\n",
        "\n",
        "Machine learning's goal is to predict well on new data drawn from a (hidden) true probability distribution. Unfortunately, the model can't see the whole truth; the model can only sample from a training data set. If a model fits the current examples well, how can you trust the model will also make good predictions on never-before-seen examples?\n",
        "\n",
        "William of Ockham, a 14th century friar and philosopher, loved simplicity. He believed that scientists should prefer simpler formulas or theories over more complex ones. To put Ockham's razor in machine learning terms:\n",
        "\n",
        "> The less complex an ML model, the more likely that a good empirical result is not just due to the peculiarities of the sample.\n",
        "\n",
        "In modern times, we've formalized Ockham's razor into the fields of **statistical learning theory** and **computational learning theory**. These fields have developed **generalization bounds** ̶ a statistical description of a model's ability to generalize to new data based on factors such as:\n",
        "\n",
        "* the complexity of the model\n",
        "* the model's performance on training data\n",
        "\n",
        "A machine learning model aims to make good predictions on new, previously unseen data. But if you are building a model from your data set, how would you get the previously unseen data? Well, one way is to divide your data set into two subsets:\n",
        "\n",
        "* **training set** — a subset to train a model.\n",
        "* **test set** — a subset to test the model.\n",
        "\n",
        "Good performance on the test set is a useful indicator of good performance on the new data in general, assuming that:\n",
        "\n",
        "* The test set is large enough.\n",
        "* You don't cheat by using the same test set over and over."
      ]
    },
    {
      "cell_type": "markdown",
      "metadata": {
        "id": "BpcRpWE5-kHR"
      },
      "source": [
        "### The ML fine print\n",
        "\n",
        "The following three basic assumptions guide generalization:\n",
        "\n",
        "* We draw examples **independently and identically (i.i.d)** at random from the distribution. In other words, examples don't influence each other. (An alternate explanation: **i.i.d**. is a way of referring to the randomness of variables.)\n",
        "* The distribution is **stationary**; that is the distribution doesn't change within the data set.\n",
        "* We draw examples from partitions from the **same distribution**.\n",
        "\n",
        "In practice, we sometimes violate these assumptions. For example:\n",
        "\n",
        "* Consider a model that chooses ads to display. The i.i.d. assumption would be violated if the model bases its choice of ads, in part, on what ads the user has previously seen.\n",
        "* Consider a data set that contains retail sales information for a year. User's purchases change seasonally, which would violate stationarity.\n",
        "\n",
        "When we know that any of the preceding three basic assumptions are violated, we must pay careful attention to metrics."
      ]
    },
    {
      "cell_type": "markdown",
      "metadata": {
        "id": "rf4d8g8R-kHS"
      },
      "source": [
        "# Training and Test Sets\n",
        "\n",
        "A **test set** is a data set used to evaluate the model developed from a training set."
      ]
    },
    {
      "cell_type": "markdown",
      "metadata": {
        "id": "RdGA935Z-kHU"
      },
      "source": [
        "## Splitting Data\n",
        "\n",
        "* **training set** - a subset to train a model.\n",
        "* **test set** - a subset to test the trained model.\n",
        "\n",
        "You could imagine slicing the single data set as follows:"
      ]
    },
    {
      "cell_type": "markdown",
      "metadata": {
        "id": "7YrWSycN-kHV"
      },
      "source": [
        "<div align='center'>\n",
        "  <img src='https://developers.google.com/static/machine-learning/crash-course/images/PartitionTwoSets.svg' />\n",
        "\n",
        "  <strong>Figure 1. Slicing a single data set into a training set and test set.</strong>\n",
        "</div>"
      ]
    },
    {
      "cell_type": "markdown",
      "metadata": {
        "id": "7xW6VGIb-kHX"
      },
      "source": [
        "Make sure that your test set meets the following two conditions:\n",
        "\n",
        "* Is large enough to yield statistically meaningful results.\n",
        "* Is representative of the data set as a whole. In other words, don't pick a test set with different characterstics than the training set.\n",
        "\n",
        "Assuming that your test set meets the preceding two conditions, your goal is to create a model that generalizes well to new data. Our test set serves as a proxy for new data. For example, consider the following figure. Notice that the model learned for the training data is very simple. This model doesn't do a perfect job—a few predictions are wrong. However, this model does about as well on the test data as it does on the training data. In other words, this simple model does not overfit the training data."
      ]
    },
    {
      "cell_type": "markdown",
      "metadata": {
        "id": "FLEarEAY-kHa"
      },
      "source": [
        "<div align='center'>\n",
        "  <img src='https://developers.google.com/static/machine-learning/crash-course/images/TrainingDataVsTestData.svg' height='400px' />\n",
        "\n",
        "  <strong>Figure 2. Validating the trained model against test data.</strong>\n",
        "</div>"
      ]
    },
    {
      "cell_type": "markdown",
      "metadata": {
        "id": "tdxivGtk-kHc"
      },
      "source": [
        "**Never train on test data.** If you are seeing surprisingly good results on your evaluation metrics, it might be a sign that you are accidentally training on the test set. For example, high accuracy might indicate that test data has leaked into the training set.\n",
        "\n",
        "For example, consider a model that predicts whether an email is spam, using the subject line, email body, and sender's email address as features. We apportion the data into training and test sets, with an 80-20 split. After training, the model achieves 99% precision on both the training set and the test set. We'd expect a lower precision on the test set, so we take another look at the data and discover that many of the examples in the test set are duplicates of examples in the training set (we neglected to scrub duplicate entries for the same spam email from our input database before splitting the data). We've inadvertently trained on some of our test data, and as a result, we're no longer accurately measuring how well our model generalizes to new data."
      ]
    },
    {
      "cell_type": "markdown",
      "metadata": {
        "id": "9OcRilQf-kHg"
      },
      "source": [
        "# Validation Set\n",
        "\n",
        "Partitioning a data set into a training set and test set lets you judge whether a given model will generalize well to new data. However, using only two partitions may be insufficient when doing many rounds of hyperparameter tuning."
      ]
    },
    {
      "cell_type": "markdown",
      "metadata": {
        "id": "NgeDs7rS-kHj"
      },
      "source": [
        "## Another Partition\n",
        "\n",
        "Previously, we worked on two partitions of our data set and with those two partitions, the workflow could look as follows:"
      ]
    },
    {
      "cell_type": "markdown",
      "metadata": {
        "id": "8o63RE3q-kHk"
      },
      "source": [
        "<div align='center'>\n",
        "  <img src='https://developers.google.com/static/machine-learning/crash-course/images/WorkflowWithTestSet.svg' />\n",
        "\n",
        "  <strong>Figure 1. A possible workflow?</strong>\n",
        "</div>"
      ]
    },
    {
      "cell_type": "markdown",
      "metadata": {
        "id": "BZT3NyIx-kHl"
      },
      "source": [
        "In the figure, \"Tweak model\" means adjusting anything about the model you can dream up—from changing the learning rate, to adding or removing features, to designing a completely new model from scratch. At the end of this workflow, you pick the model that does best on the *test set*.\n",
        "\n",
        "Dividing the data set into two sets is a good idea, but not a panacea. You can greatly reduce your chances of overfitting by partitioning the data set into the three subsets shown in the following figure:"
      ]
    },
    {
      "cell_type": "markdown",
      "metadata": {
        "id": "CPx8Gq2o-kHn"
      },
      "source": [
        "<div align='center'>\n",
        "  <img src='https://developers.google.com/static/machine-learning/crash-course/images/PartitionThreeSets.svg' />\n",
        "\n",
        "  <strong>Figure 2. Slicing a single data set into three subsets.</strong>\n",
        "</div>"
      ]
    },
    {
      "cell_type": "markdown",
      "metadata": {
        "id": "8rmyRVTg-kHo"
      },
      "source": [
        "Use the **validation set** to evaluate results from the training set. Then, use the test set to double-check your evaluation after the model has \"passed\" the validation set. The following figure shows this new workflow:"
      ]
    },
    {
      "cell_type": "markdown",
      "metadata": {
        "id": "83M9XuG2-kHo"
      },
      "source": [
        "<div align='center'>\n",
        "  <img src='https://developers.google.com/static/machine-learning/crash-course/images/WorkflowWithValidationSet.svg' />\n",
        "\n",
        "  <strong>Figure 3. A better workflow.</strong>\n",
        "</div>"
      ]
    },
    {
      "cell_type": "markdown",
      "metadata": {
        "id": "XFjGOYYF-kHq"
      },
      "source": [
        "In this improved workflow:\n",
        "\n",
        "1. Pick the model that does best on the validation set.\n",
        "2. Double-check that model against the test set.\n",
        "\n",
        "This is a better workflow because it creates fewer exposures to the test set."
      ]
    },
    {
      "cell_type": "markdown",
      "metadata": {
        "id": "vmlFLZZY-kHr"
      },
      "source": [
        "# Representation\n",
        "\n",
        "A machine learning model can't directly see, hear, or sense input examples. Instead, you must create a representation of the data to provide the model with a useful vantage point into the data's key qualities. That is, in order to train a model, you must choose the set of features that best represent the data."
      ]
    },
    {
      "cell_type": "markdown",
      "metadata": {
        "id": "aSTC4bCR-kHt"
      },
      "source": [
        "## Feature Engineering\n",
        "\n",
        "In traditional programming, the focus is on code. In machine learning projects, the focus shifts to representation. That is, one way developers hone a model is by adding and improving its features."
      ]
    },
    {
      "cell_type": "markdown",
      "metadata": {
        "id": "MsTbGME--kHt"
      },
      "source": [
        "### Mapping Raw Data to Features\n",
        "\n",
        "The left side of Figure 1 illustrates raw data from an input data source; the right side illustrates a **feature vector**, which is the set of floating-point values comprising the examples in your data set. **Feature engineering** means transforming raw data into a feature vector. Expect to spend significant time doing feature engineering.\n",
        "\n",
        "Many machine learning models must represent the features as real-numbered vectors since the feature values must be multiplied by the model weights."
      ]
    },
    {
      "cell_type": "markdown",
      "metadata": {
        "id": "arWxp3EZ-kHu"
      },
      "source": [
        "<div align='center'>\n",
        "  <img src='https://developers.google.com/static/machine-learning/crash-course/images/RawDataToFeatureVector.svg' />\n",
        "\n",
        "  <strong>Figure 1. Feature engineering maps raw data to ML features.</strong>\n",
        "</div>"
      ]
    },
    {
      "cell_type": "markdown",
      "metadata": {
        "id": "VdwprsXf-kHv"
      },
      "source": [
        "### Mapping numeric values\n",
        "\n",
        "Integer and floating-point data don't need a special encoding because they can be multiplied by a numeric weight. As suggested in Figure 2, converting the raw integer value 6 to the feature value 6.0 is trivial:"
      ]
    },
    {
      "cell_type": "markdown",
      "metadata": {
        "id": "Y_EWw_Ez-kHv"
      },
      "source": [
        "<div align='center'>\n",
        "  <img src='https://developers.google.com/static/machine-learning/crash-course/images/FloatingPointFeatures.svg' />\n",
        "\n",
        "  <strong>Figure 2. Mapping integer values to floating-point values.</strong>\n",
        "</div>"
      ]
    },
    {
      "cell_type": "markdown",
      "metadata": {
        "id": "KTfL8e1O-kHx"
      },
      "source": [
        "### Mapping categorical values\n",
        "\n",
        "[Categorical features](https://developers.google.com/machine-learning/glossary#categorical_data) have a discrete set of possible values. For example, there might be a feature called `street_name` with options that include:"
      ]
    },
    {
      "cell_type": "code",
      "execution_count": null,
      "metadata": {
        "id": "TajkbtqX-kHz"
      },
      "outputs": [],
      "source": [
        "{'Charleston Road', 'North Shoreline Boulevard', 'Shorebird Way', 'Rengstorff Avenue'}"
      ]
    },
    {
      "cell_type": "markdown",
      "metadata": {
        "id": "s3zZEsZz-kH1"
      },
      "source": [
        "Since models cannot multiply strings by the learned weights, we use feature engineering to convert strings to numeric values.\n",
        "\n",
        "We can accomplish this by defining a mapping from the feature values, which we'll refer to as the **vocabulary** of possible values, to integers. Since not every street in the world will appear in our dataset, we can group all other streets into a catch-all \"other\" category, known as an **OOV (out-of-vocabulary) bucket**.\n",
        "\n",
        "Using this approach, here's how we can map our street names to numbers:\n",
        "\n",
        "* map Charleston Road to 0\n",
        "* map North Shoreline Boulevard to 1\n",
        "* map Shorebird Way to 2\n",
        "* map Rengstorff Avenue to 3\n",
        "* map everything else (OOV) to 4\n",
        "\n",
        "However, if we incorporate these index numbers directly into our model, it will impose some constraints that might be problematic:\n",
        "\n",
        "* We'll be learning a single weight that applies to all streets. For example, if we learn a weight of 6 for `street_name`, then we will multiply it by 0 for Charleston Road, by 1 for North Shoreline Boulevard, 2 for Shorebird Way and so on. Consider a model that predicts house prices using `street_name` as a feature. It is unlikely that there is a linear adjustment of price based on the street name, and furthermore this would assume you have ordered the streets based on their average house price. Our model needs the flexibility of learning different weights for each street that will be added to the price estimated using the other features.\n",
        "* We aren't accounting for cases where `street_name` may take multiple values. For example, many houses are located at the corner of two streets, and there's no way to encode that information in the `street_name` value if it contains a single index.\n",
        "\n",
        "To remove both these constraints, we can instead create a binary vector for each categorical feature in our model that represents values as follows:\n",
        "\n",
        "* For values that apply to the example, set corresponding vector elements to `1`.\n",
        "* Set all other elements to `0`.\n",
        "\n",
        "The length of this vector is equal to the number of elements in the vocabulary. This representation is called a **one-hot** encoding when a single value is 1, and a **multi-hot** encoding when multiple values are 1.\n",
        "\n",
        "Figure 3 illustrates a one-hot encoding of a particular street: Shorebird Way. The element in the binary vector for Shorebird Way has a value of `1`, while the elements for all other streets have values of `0`."
      ]
    },
    {
      "cell_type": "markdown",
      "metadata": {
        "id": "Stdtto4v-kH4"
      },
      "source": [
        "<div align='center'>\n",
        "  <img src='https://developers.google.com/static/machine-learning/crash-course/images/OneHotEncoding.svg' />\n",
        "\n",
        "  <strong>Figure 3. Mapping street address via one-hot encoding.</strong>\n",
        "</div>"
      ]
    },
    {
      "cell_type": "markdown",
      "metadata": {
        "id": "K9USNL2H-kH6"
      },
      "source": [
        "This approach effectively creates a Boolean variable for every feature value (e.g., street name). Here, if a house is on Shorebird Way then the binary value is 1 only for Shorebird Way. Thus, the model uses only the weight for Shorebird Way.\n",
        "\n",
        "Similarly, if a house is at the corner of two streets, then two binary values are set to 1, and the model uses both their respective weights."
      ]
    },
    {
      "cell_type": "markdown",
      "metadata": {
        "id": "KiuHbjUC-kH8"
      },
      "source": [
        "### Sparse Representation\n",
        "\n",
        "Suppose that you had 1,000,000 different street names in your data set that you wanted to include as values for `street_name`. Explicitly creating a binary vector of 1,000,000 elements where only 1 or 2 elements are true is a very inefficient representation in terms of both storage and computation time when processing these vectors. In this situation, a common approach is to use a [sparse representation](https://developers.google.com/machine-learning/glossary#sparse_representation) in which only nonzero values are stored. In sparse representations, an independent model weight is still learned for each feature value, as described above."
      ]
    },
    {
      "cell_type": "markdown",
      "metadata": {
        "id": "6uBErWO9-kH9"
      },
      "source": [
        "## Qualities of Good Features\n",
        "\n",
        "We've explored ways to map raw data into suitable feature vectors, but that's only part of the work. We must now explore what kinds of values actually make good features within those feature vectors."
      ]
    },
    {
      "cell_type": "markdown",
      "metadata": {
        "id": "9sL4EVrf-kH9"
      },
      "source": [
        "### Avoid rarely used discrete feature values\n",
        "\n",
        "Good feature values should appear more than 5 or so times in a data set. Doing so enables a model to learn how this feature value relates to the label. That is, having many examples with the same discrete value gives the model a chance to see the feature in different settings, and in turn, determine when it's a good predictor for the label. For example, a `house_type` feature would likely contain many examples in which its value was `victorian`:"
      ]
    },
    {
      "cell_type": "code",
      "execution_count": null,
      "metadata": {
        "id": "4EmkRH6I-kH_"
      },
      "outputs": [],
      "source": [
        "house_type: 'victorian'"
      ]
    },
    {
      "cell_type": "markdown",
      "metadata": {
        "id": "37I6anFV-kIB"
      },
      "source": [
        "Conversely, if a feature's value appears only once or very rarely, the model can't make predictions based on that feature. For example, `unique_house_id` is a bad feature because each value would be used only once, so the model couldn't learn anything from it:"
      ]
    },
    {
      "cell_type": "code",
      "execution_count": null,
      "metadata": {
        "id": "JqZ_YDbH-kIC"
      },
      "outputs": [],
      "source": [
        "unique_house_id: '8SK982ZZ1242Z'"
      ]
    },
    {
      "cell_type": "markdown",
      "metadata": {
        "id": "SSzuvryO-kIE"
      },
      "source": [
        "### Prefer clear and obvious meanings\n",
        "\n",
        "Each feature should have a clear and obvious meaning to anyone on the project. For example, the following good feature is clearly named and the value makes sense with respect to the name:"
      ]
    },
    {
      "cell_type": "code",
      "execution_count": null,
      "metadata": {
        "id": "SbPXVDVh-kIG"
      },
      "outputs": [],
      "source": [
        "house_age_years: 27"
      ]
    },
    {
      "cell_type": "markdown",
      "metadata": {
        "id": "qkKNzuwJ-kIH"
      },
      "source": [
        "Conversely, the meaning of the following feature value is pretty much indecipherable to anyone but the engineer who created it:"
      ]
    },
    {
      "cell_type": "code",
      "execution_count": null,
      "metadata": {
        "id": "YusAUE_j-kIJ"
      },
      "outputs": [],
      "source": [
        "house_age: 851472000"
      ]
    },
    {
      "cell_type": "markdown",
      "metadata": {
        "id": "hU87rfP9-kIL"
      },
      "source": [
        "In some cases, noisy data (rather than bad engineering choices) causes unclear values. For example, the following user_age_years came from a source that didn't check for appropriate values:"
      ]
    },
    {
      "cell_type": "code",
      "execution_count": null,
      "metadata": {
        "id": "PLj6RLkO-kIO"
      },
      "outputs": [],
      "source": [
        "user_age_years: 277"
      ]
    },
    {
      "cell_type": "markdown",
      "metadata": {
        "id": "fg9BVEsm-kIP"
      },
      "source": [
        "### Don't mix \"magic\" values with actual data\n",
        "\n",
        "Good floating-point features don't contain peculiar out-of-range discontinuities or \"magic\" values. For example, suppose a feature holds a floating-point value between 0 and 1. So, values like the following are fine:"
      ]
    },
    {
      "cell_type": "code",
      "execution_count": null,
      "metadata": {
        "id": "1lireilO-kIR"
      },
      "outputs": [],
      "source": [
        "quality_rating: 0.82\n",
        "quality_rating: 0.37"
      ]
    },
    {
      "cell_type": "markdown",
      "metadata": {
        "id": "LsKyt25k-kIU"
      },
      "source": [
        "However, if a user didn't enter a `quality_rating`, perhaps the data set represented its absence with a magic value like the following:"
      ]
    },
    {
      "cell_type": "code",
      "execution_count": null,
      "metadata": {
        "id": "fhR2DhRC-kIW"
      },
      "outputs": [],
      "source": [
        "quality_rating: -1"
      ]
    },
    {
      "cell_type": "markdown",
      "metadata": {
        "id": "uCn0e2UF-kIY"
      },
      "source": [
        "To explicitly mark magic values, create a Boolean feature that indicates whether or not a `quality_rating` was supplied. Give this Boolean feature a name like `is_quality_rating_defined`.\n",
        "\n",
        "In the original feature, replace the magic values as follows:\n",
        "\n",
        "* For variables that take a finite set of values (discrete variables), add a new value to the set and use it to signify that the feature value is missing.\n",
        "* For continuous variables, ensure missing values do not affect the model by using the mean value of the feature's data."
      ]
    },
    {
      "cell_type": "markdown",
      "metadata": {
        "id": "VOSvyVtX-kIZ"
      },
      "source": [
        "### Account for upstream instability\n",
        "\n",
        "The definition of a feature shouldn't change over time. For example, the following value is useful because the city name *probably* won't change. (Note that we'll still need to convert a string like \"br/sao_paulo\" to a one-hot vector.)"
      ]
    },
    {
      "cell_type": "code",
      "execution_count": null,
      "metadata": {
        "id": "wXUPjtMG-kIb"
      },
      "outputs": [],
      "source": [
        "city_id: 'br/sao_paulo'"
      ]
    },
    {
      "cell_type": "markdown",
      "metadata": {
        "id": "Dy_QlaPl-kIe"
      },
      "source": [
        "But gathering a value inferred by another model carries additional costs. Perhaps the value \"219\" currently represents Sao Paulo, but that representation could easily change on a future run of the other model:"
      ]
    },
    {
      "cell_type": "code",
      "execution_count": null,
      "metadata": {
        "id": "9Nz4hKxL-kIg"
      },
      "outputs": [],
      "source": [
        "inferred_city_cluster: 219"
      ]
    },
    {
      "cell_type": "markdown",
      "metadata": {
        "id": "Q_QvrU-4-kIj"
      },
      "source": [
        "## Cleaning Data\n",
        "\n",
        "Apple trees produce some mixture of great fruit and wormy messes. Yet the apples in high-end grocery stores display 100% perfect fruit. Between orchard and grocery, someone spends significant time removing the bad apples or throwing a little wax on the salvageable ones. As an ML engineer, you'll spend enormous amounts of your time tossing out bad examples and cleaning up the salvageable ones. Even a few \"bad apples\" can spoil a large data set."
      ]
    },
    {
      "cell_type": "markdown",
      "metadata": {
        "id": "7kfzdcQK-kIk"
      },
      "source": [
        "### Scaling feature values\n",
        "\n",
        "**Scaling** means converting floating-point feature values from their natural range (for example, 100 to 900) into a standard range (for example, 0 to 1 or -1 to +1). If a feature set consists of only a single feature, then scaling provides little to no practical benefit. If, however, a feature set consists of multiple features, then feature scaling provides the following benefits:\n",
        "\n",
        "* Helps gradient descent converge more quickly.\n",
        "* Helps avoid the \"NaN trap,\" in which one number in the model becomes a [NaN](https://wikipedia.org/wiki/NaN) (e.g., when a value exceeds the floating-point precision limit during training), and—due to math operations—every other number in the model also eventually becomes a NaN.\n",
        "* Helps the model learn appropriate weights for each feature. Without feature scaling, the model will pay too much attention to the features having a wider range.\n",
        "\n",
        "You don't have to give every floating-point feature exactly the same scale. Nothing terrible will happen if Feature A is scaled from -1 to +1 while Feature B is scaled from -3 to +3. However, your model will react poorly if Feature B is scaled from 5000 to 100000.\n",
        "\n",
        "One obvious way to scale numerical data is to linearly map [min value, max value] to a small scale, such as [-1, +1].\n",
        "\n",
        "Another popular scaling tactic is to calculate the Z score of each value. The Z score relates the number of standard deviations away from the mean. In other words:\n",
        "\n",
        "<div class=\"math-jax-block\">\n",
        "\n",
        "$$\\mathrm{scaled\\ value}=(\\mathrm{value}−\\mathrm{mean})/ \\mathrm{stddev}$$\n",
        "\n",
        "</div>\n",
        "\n",
        "For example, given:\n",
        "\n",
        "* mean = 100\n",
        "* standard deviation = 20\n",
        "* original value = 130\n",
        "\n",
        "then:"
      ]
    },
    {
      "cell_type": "code",
      "execution_count": null,
      "metadata": {
        "id": "mmBxDBTN-kIn"
      },
      "outputs": [],
      "source": [
        "scaled_value = (130 - 100) / 20\n",
        "scaled_value = 1.5"
      ]
    },
    {
      "cell_type": "markdown",
      "metadata": {
        "id": "PQrxtxGg-kIq"
      },
      "source": [
        "Scaling with Z scores means that most scaled values will be between -3 and +3, but a few values will be a little higher or lower than that range."
      ]
    },
    {
      "cell_type": "markdown",
      "metadata": {
        "id": "PHHRQf37-kIs"
      },
      "source": [
        "### Handling extreme outliers\n",
        "\n",
        "The following plot represents a feature called `roomsPerPerson` from the [California Housing data set](https://developers.google.com/machine-learning/crash-course/california-housing-data-description). The value of `roomsPerPerson` was calculated by dividing the total number of rooms for an area by the population for that area. The plot shows that the vast majority of areas in California have one or two rooms per person. But take a look along the x-axis."
      ]
    },
    {
      "cell_type": "markdown",
      "metadata": {
        "id": "OFLa7pxl-kIu"
      },
      "source": [
        "<div align='center'>\n",
        "  <img src='https://developers.google.com/static/machine-learning/crash-course/images/ScalingNoticingOutliers.svg' />\n",
        "\n",
        "  <strong>Figure 4. A verrrrry lonnnnnnng tail.</strong>\n",
        "</div>"
      ]
    },
    {
      "cell_type": "markdown",
      "metadata": {
        "id": "fxqX5Bbv-kIw"
      },
      "source": [
        "How could we minimize the influence of those extreme outliers? Well, one way would be to take the log of every value:"
      ]
    },
    {
      "cell_type": "markdown",
      "metadata": {
        "id": "fdlC1XLD-kIx"
      },
      "source": [
        "<div align='center'>\n",
        "  <img src='https://developers.google.com/static/machine-learning/crash-course/images/ScalingLogNormalization.svg' />\n",
        "\n",
        "  <strong>Figure 5. Logarithmic scaling still leaves a tail.</strong>\n",
        "</div>"
      ]
    },
    {
      "cell_type": "markdown",
      "metadata": {
        "id": "Sz5DqkVP-kIy"
      },
      "source": [
        "Log scaling does a slightly better job, but there's still a significant tail of outlier values. Let's pick yet another approach. What if we simply \"cap\" or \"clip\" the maximum value of `roomsPerPerson` at an arbitrary value, say 4.0?"
      ]
    },
    {
      "cell_type": "markdown",
      "metadata": {
        "id": "YdRaTldl-kIz"
      },
      "source": [
        "<div align='center'>\n",
        "  <img src='https://developers.google.com/static/machine-learning/crash-course/images/ScalingClipping.svg' />\n",
        "\n",
        "  <strong>Figure 6. Clipping feature values at 4.0</strong>\n",
        "</div>"
      ]
    },
    {
      "cell_type": "markdown",
      "metadata": {
        "id": "obe5Hk0w-kI0"
      },
      "source": [
        "Clipping the feature value at 4.0 doesn't mean that we ignore all values greater than 4.0. Rather, it means that all values that were greater than 4.0 now become 4.0. This explains the funny hill at 4.0. Despite that hill, the scaled feature set is now more useful than the original data."
      ]
    },
    {
      "cell_type": "markdown",
      "metadata": {
        "id": "IX-Rv76M-kI2"
      },
      "source": [
        "### Binning\n",
        "\n",
        "The following plot shows the relative prevalence of houses at different latitudes in California. Notice the clustering — Los Angeles is about at latitude 34 and San Francisco is roughly at latitude 38."
      ]
    },
    {
      "cell_type": "markdown",
      "metadata": {
        "id": "Nof3AxuH-kI3"
      },
      "source": [
        "<div align='center'>\n",
        "  <img src='https://developers.google.com/static/machine-learning/crash-course/images/ScalingBinningPart1.svg' />\n",
        "\n",
        "  <strong>Figure 7. Houses per latitude.</strong>\n",
        "</div>"
      ]
    },
    {
      "cell_type": "markdown",
      "metadata": {
        "id": "hek8YROC-kI5"
      },
      "source": [
        "In the data set, `latitude` is a floating-point value. However, it doesn't make sense to represent `latitude` as a floating-point feature in our model. That's because no linear relationship exists between latitude and housing values. For example, houses in latitude 35 are not $\\dfrac{35}{34}$ more expensive (or less expensive) than houses at latitude 34. And yet, individual latitudes probably are a pretty good predictor of house values.\n",
        "\n",
        "To make latitude a helpful predictor, let's divide latitudes into \"bins\" as suggested by the following figure:"
      ]
    },
    {
      "cell_type": "markdown",
      "metadata": {
        "id": "KLZYLjXR-kI7"
      },
      "source": [
        "<div align='center'>\n",
        "  <img src='https://developers.google.com/static/machine-learning/crash-course/images/ScalingBinningPart2.svg' />\n",
        "\n",
        "  <strong>Figure 8. Binning values.</strong>\n",
        "</div>"
      ]
    },
    {
      "cell_type": "markdown",
      "metadata": {
        "id": "MFokEV0V-kI-"
      },
      "source": [
        "Instead of having one floating-point feature, we now have 11 distinct boolean features (`LatitudeBin1`, `LatitudeBin2`, ..., `LatitudeBin11`). Having 11 separate features is somewhat inelegant, so let's unite them into a single 11-element vector. Doing so will enable us to represent latitude 37.4 as follows:"
      ]
    },
    {
      "cell_type": "code",
      "execution_count": null,
      "metadata": {
        "id": "S1Cl_cca-kJA"
      },
      "outputs": [],
      "source": [
        "[0, 0, 0, 0, 0, 1, 0, 0, 0, 0, 0]"
      ]
    },
    {
      "cell_type": "markdown",
      "metadata": {
        "id": "2Qu6VyBP-kJC"
      },
      "source": [
        "Thanks to binning, our model can now learn completely different weights for each latitude.\n",
        "\n",
        "For simplicity's sake in the latitude example, we used whole numbers as bin boundaries. Had we wanted finer-grain resolution, we could have split bin boundaries at, say, every tenth of a degree. Adding more bins enables the model to learn different behaviors from latitude 37.4 than latitude 37.5, but only if there are sufficient examples at each tenth of a latitude.\n",
        "\n",
        "Another approach is to bin by [quantile](https://wikipedia.org/wiki/Quantile), which ensures that the number of examples in each bucket is equal. Binning by quantile completely removes the need to worry about outliers."
      ]
    },
    {
      "cell_type": "markdown",
      "metadata": {
        "id": "vAAk401a-kJE"
      },
      "source": [
        "### Scrubbing\n",
        "\n",
        "Until now, we've assumed that all the data used for training and testing was trustworthy. In real-life, many examples in data sets are unreliable due to one or more of the following:\n",
        "\n",
        "* **Omitted values.** For instance, a person forgot to enter a value for a house's age.\n",
        "* **Duplicate examples.** For example, a server mistakenly uploaded the same logs twice.\n",
        "* **Bad labels.** For instance, a person mislabeled a picture of an oak tree as a maple.\n",
        "* **Bad feature values.** For example, someone typed in an extra digit, or a thermometer was left out in the sun.\n",
        "\n",
        "Once detected, you typically \"fix\" bad examples by removing them from the data set. To detect omitted values or duplicated examples, you can write a simple program. Detecting bad feature values or labels can be far trickier.\n",
        "\n",
        "In addition to detecting bad individual examples, you must also detect bad data in the aggregate. Histograms are a great mechanism for visualizing your data in the aggregate. In addition, getting statistics like the following can help:\n",
        "\n",
        "* Maximum and minimum\n",
        "* Mean and median\n",
        "* Standard deviation\n",
        "\n",
        "Consider generating lists of the most common values for discrete features. For example, do the number of examples with `country:uk` match the number you expect. Should `language:jp` really be the most common language in your data set?"
      ]
    },
    {
      "cell_type": "markdown",
      "metadata": {
        "id": "Xj8vLeH2-kJG"
      },
      "source": [
        "### Know your data\n",
        "\n",
        "Follow these rules:\n",
        "\n",
        "* Keep in mind what you think your data should look like.\n",
        "* Verify that the data meets these expectations (or that you can explain why it doesn’t).\n",
        "* Double-check that the training data agrees with other sources (for example, dashboards).\n",
        "\n",
        "Treat your data with all the care that you would treat any mission-critical code. Good ML relies on good data."
      ]
    },
    {
      "cell_type": "markdown",
      "metadata": {
        "id": "BZZrKIXr-kJH"
      },
      "source": [
        "# Feature Crosses\n",
        "\n",
        "A **feature cross** is a **synthetic feature** formed by multiplying (crossing) two or more features. Crossing combinations of features can provide predictive abilities beyond what those features can provide individually."
      ]
    },
    {
      "cell_type": "markdown",
      "metadata": {
        "id": "IMklSQ-K-kJI"
      },
      "source": [
        "## Encoding Nonlinearity\n",
        "\n",
        "In Figures 1 and 2, imagine the following:\n",
        "\n",
        "* The blue dots represent sick trees.\n",
        "* The orange dots represent healthy trees."
      ]
    },
    {
      "cell_type": "markdown",
      "metadata": {
        "id": "wZf9m5hg-kJK"
      },
      "source": [
        "<div align='center'>\n",
        "  <img src='https://developers.google.com/machine-learning/crash-course/images/LinearProblem1.png' />\n",
        "\n",
        "  <strong>Figure 1. Is this a linear problem?</strong>\n",
        "</div>"
      ]
    },
    {
      "cell_type": "markdown",
      "metadata": {
        "id": "doE9U9oL-kJM"
      },
      "source": [
        "Can you draw a line that neatly separates the sick trees from the healthy trees? Sure. This is a linear problem. The line won't be perfect. A sick tree or two might be on the \"healthy\" side, but your line will be a good predictor.\n",
        "\n",
        "Now look at the following figure:"
      ]
    },
    {
      "cell_type": "markdown",
      "metadata": {
        "id": "ljt_tHBd-kJO"
      },
      "source": [
        "<div align='center'>\n",
        "  <img src='https://developers.google.com/machine-learning/crash-course/images/LinearProblem2.png' />\n",
        "\n",
        "  <strong>Figure 2. Is this a linear problem?</strong>\n",
        "</div>"
      ]
    },
    {
      "cell_type": "markdown",
      "metadata": {
        "id": "xzhEzk1P-kJQ"
      },
      "source": [
        "Can you draw a single straight line that neatly separates the sick trees from the healthy trees? No, you can't. This is a nonlinear problem. Any line you draw will be a poor predictor of tree health."
      ]
    },
    {
      "cell_type": "markdown",
      "metadata": {
        "id": "i3AJ6jcQ-kJT"
      },
      "source": [
        "<div align='center'>\n",
        "  <img src='https://developers.google.com/machine-learning/crash-course/images/LinearProblemNot.png' />\n",
        "\n",
        "  <strong>Figure 3. A single line can't separate the two classes.</strong>\n",
        "</div>"
      ]
    },
    {
      "cell_type": "markdown",
      "metadata": {
        "id": "cUbHO38m-kJU"
      },
      "source": [
        "To solve the nonlinear problem shown in Figure 2, create a feature cross. A **feature cross** is a synthetic feature that encodes nonlinearity in the feature space by multiplying two or more input features together. (The term cross comes from [cross product](https://wikipedia.org/wiki/Cross_product).) Let's create a feature cross named $x_{3}$ by crossing $x_{1}$ and $x_{2}$:\n",
        "\n",
        "$$x_{3}=x_{1}x_{2}$$\n",
        "\n",
        "We treat this newly minted $x_{3}$ feature cross just like any other feature. The linear formula becomes:\n",
        "\n",
        "<div class=\"math-jax-block\">\n",
        "\n",
        "$$y=b+w_{1}x_{1}+w_{2}x_{2}+w_{3}x_{3}$$\n",
        "\n",
        "</div>\n",
        "\n",
        "A linear algorithm can learn a weight for $w_{3}$ just as it would for $w_{1}$ and $w_{2}$. In other words, although $w_{3}$ encodes nonlinear information, you don’t need to change how the linear model trains to determine the value of $w_{3}$."
      ]
    },
    {
      "cell_type": "markdown",
      "metadata": {
        "id": "mxHCGQvK-kJW"
      },
      "source": [
        "### Kinds of feature crosses\n",
        "\n",
        "We can create many different kinds of feature crosses. For example:\n",
        "\n",
        "* `[A X B]`: a feature cross formed by multiplying the values of two features.\n",
        "* `[A x B x C x D x E]`: a feature cross formed by multiplying the values of five features.\n",
        "* `[A x A]`: a feature cross formed by squaring a single feature.\n",
        "\n",
        "Thanks to [stochastic gradient descent](https://developers.google.com/machine-learning/crash-course/reducing-loss/stochastic-gradient-descent), linear models can be trained efficiently. Consequently, supplementing scaled linear models with feature crosses has traditionally been an efficient way to train on massive-scale data sets."
      ]
    },
    {
      "cell_type": "markdown",
      "metadata": {
        "id": "bS-ueNHm-kJY"
      },
      "source": [
        "## Crossing One-Hot Vectors\n",
        "\n",
        "So far, we've focused on feature-crossing two individual floating-point features. In practice, machine learning models seldom cross continuous features. However, machine learning models do frequently cross one-hot feature vectors. Think of feature crosses of one-hot feature vectors as logical conjunctions. For example, suppose we have two features: country and language. A one-hot encoding of each generates vectors with binary features that can be interpreted as `country=USA`, `country=France` or `language=English`, `language=Spanish`. Then, if you do a feature cross of these one-hot encodings, you get binary features that can be interpreted as logical conjunctions, such as:"
      ]
    },
    {
      "cell_type": "code",
      "execution_count": null,
      "metadata": {
        "id": "wRL4RDTj-kJa"
      },
      "outputs": [],
      "source": [
        "country: 'usa' AND language: 'spanish'"
      ]
    },
    {
      "cell_type": "markdown",
      "metadata": {
        "id": "emePQkpE-kJb"
      },
      "source": [
        "As another example, suppose you bin latitude and longitude, producing separate one-hot five-element feature vectors. For instance, a given latitude and longitude could be represented as follows:"
      ]
    },
    {
      "cell_type": "code",
      "execution_count": null,
      "metadata": {
        "id": "qQFLR5xr-kJc"
      },
      "outputs": [],
      "source": [
        "binned_latitude = [0, 0, 0, 1, 0]\n",
        "binned_longitude = [0, 1, 0, 0, 0]"
      ]
    },
    {
      "cell_type": "markdown",
      "metadata": {
        "id": "ee1iNEA4-kJd"
      },
      "source": [
        "Suppose you create a feature cross of these two feature vectors:"
      ]
    },
    {
      "cell_type": "code",
      "execution_count": null,
      "metadata": {
        "id": "d2KIwEZw-kJg"
      },
      "outputs": [],
      "source": [
        "binned_latitude X binned_longitude"
      ]
    },
    {
      "cell_type": "markdown",
      "metadata": {
        "id": "qhPxKcPE-kJi"
      },
      "source": [
        "This feature cross is a 25-element one-hot vector (24 zeroes and 1 one). The single `1` in the cross identifies a particular conjunction of latitude and longitude. Your model can then learn particular associations about that conjunction.\n",
        "\n",
        "Suppose we bin latitude and longitude much more coarsely, as follows:"
      ]
    },
    {
      "cell_type": "code",
      "execution_count": null,
      "metadata": {
        "id": "dyahPOLf-kJj"
      },
      "outputs": [],
      "source": [
        "binned_latitude(lat) = [\n",
        "  0  < lat <= 10\n",
        "  10 < lat <= 20\n",
        "  20 < lat <= 30\n",
        "]\n",
        "\n",
        "binned_longitude(lon) = [\n",
        "  0  < lon <= 15\n",
        "  15 < lon <= 30\n",
        "]"
      ]
    },
    {
      "cell_type": "markdown",
      "metadata": {
        "id": "a26eFUuM-kJk"
      },
      "source": [
        "Creating a feature cross of those coarse bins leads to synthetic feature having the following meanings:"
      ]
    },
    {
      "cell_type": "code",
      "execution_count": null,
      "metadata": {
        "id": "3Viuk19--kJn"
      },
      "outputs": [],
      "source": [
        "binned_latitude_X_longitude(lat, lon) = [\n",
        "  0  < lat <= 10 AND 0  < lon <= 15\n",
        "  0  < lat <= 10 AND 15 < lon <= 30\n",
        "  10 < lat <= 20 AND 0  < lon <= 15\n",
        "  10 < lat <= 20 AND 15 < lon <= 30\n",
        "  20 < lat <= 30 AND 0  < lon <= 15\n",
        "  20 < lat <= 30 AND 15 < lon <= 30\n",
        "]"
      ]
    },
    {
      "cell_type": "markdown",
      "metadata": {
        "id": "I3MsoKvQ-kJp"
      },
      "source": [
        "Now suppose our model needs to predict how satisfied dog owners will be with dogs based on two features:\n",
        "\n",
        "* Behavior type (barking, crying, snuggling, etc.)\n",
        "* Time of day\n",
        "\n",
        "If we build a feature cross from both these features:"
      ]
    },
    {
      "cell_type": "code",
      "execution_count": null,
      "metadata": {
        "id": "ZgW7Zvhe-kJp"
      },
      "outputs": [],
      "source": [
        "[behavior_type X time_of_day]"
      ]
    },
    {
      "cell_type": "markdown",
      "metadata": {
        "id": "bU9R5OFW-kJp"
      },
      "source": [
        "then we'll end up with vastly more predictive ability than either feature on its own. For example, if a dog cries (happily) at 5:00 pm when the owner returns from work will likely be a great positive predictor of owner satisfaction. Crying (miserably, perhaps) at 3:00 am when the owner was sleeping soundly will likely be a strong negative predictor of owner satisfaction.\n",
        "\n",
        "Linear learners scale well to massive data. Using feature crosses on massive data sets is one efficient strategy for learning highly complex models. [Neural networks](https://developers.google.com/machine-learning/crash-course/introduction-to-neural-networks) provide another strategy."
      ]
    },
    {
      "cell_type": "markdown",
      "source": [
        "# Transform Your Data"
      ],
      "metadata": {
        "id": "4hFPbXBKaU3B"
      }
    },
    {
      "cell_type": "markdown",
      "source": [
        "## Introduction to Transforming Data\n",
        "\n",
        "[**Feature engineering**](https://developers.google.com/machine-learning/glossary#feature_engineering) is the process of determining which features might be useful in training a model, and then creating those features by transforming raw data found in log files and other sources. In this section, we focus on when and how to transform numeric and categorical data, and the tradeoffs of different approaches."
      ],
      "metadata": {
        "id": "wcuCqivBacpe"
      }
    },
    {
      "cell_type": "markdown",
      "source": [
        "### Reasons for Data Transformation\n",
        "\n",
        "We transform features primarily for the following reasons:\n",
        "\n",
        "1. **Mandatory transformations** for data compatibility. Examples include:\n",
        "\n",
        "  * Converting non-numeric features into numeric. You can’t do matrix multiplication on a string, so we must convert the string to some numeric representation.\n",
        "\n",
        "  * Resizing inputs to a fixed size. Linear models and feed-forward neural networks have a fixed number of input nodes, so your input data must always have the same size. For example, image models need to reshape the images in their dataset to a fixed size.\n",
        "\n",
        "2. **Optional quality transformations** that may help the model perform better. Examples include:\n",
        "\n",
        "  * Tokenization or lower-casing of text features.\n",
        "\n",
        "  * Normalized numeric features (most models perform better afterwards).\n",
        "  \n",
        "  * Allowing linear models to introduce non-linearities into the feature space."
      ],
      "metadata": {
        "id": "mldjna5gazUD"
      }
    },
    {
      "cell_type": "markdown",
      "source": [
        "### Where to Transform?\n",
        "\n",
        "You can apply transformations either while generating the data on disk, or within the model.\n",
        "\n",
        "**Transforming prior to training**\n",
        "\n",
        "In this approach, we perform the transformation before training. This code lives separate from your machine learning model.\n",
        "\n",
        "**Pros**\n",
        "\n",
        "* Computation is performed only once.\n",
        "* Computation can look at entire dataset to determine the transformation.\n",
        "\n",
        "**Cons**\n",
        "\n",
        "* Transformations need to be reproduced at prediction time. Beware of skew!\n",
        "* Any transformation changes require rerunning data generation, leading to slower iterations.\n",
        "\n",
        "Skew is more dangerous for cases involving online serving. In offline serving, you might be able to reuse the code that generates your training data. In online serving, the code that creates your dataset and the code used to handle live traffic are almost necessarily different, which makes it easy to introduce skew.\n",
        "\n",
        "**Transforming within the model**\n",
        "\n",
        "In this approach, the transformation is part of the model code. The model takes in untransformed data as input and will transform it within the model.\n",
        "\n",
        "**Pros**\n",
        "\n",
        "* Easy iterations. If you change the transformations, you can still use the same data files.\n",
        "* You're guaranteed the same transformations at training and prediction time.\n",
        "\n",
        "**Cons**\n",
        "\n",
        "* Expensive transforms can increase model latency.\n",
        "* Transformations are per batch.\n",
        "\n",
        "There are many considerations for transforming per batch. Suppose you want to [**normalize**](https://developers.google.com/machine-learning/glossary#normalization) a feature by its average value--that is, you want to change the feature values to have mean `0` and standard deviation `1`. When transforming inside the model, this normalization will have access to only one batch of data, not the full dataset. You can either normalize by the average value within a batch (dangerous if batches are highly variant), or precompute the average and fix it as a constant in the model."
      ],
      "metadata": {
        "id": "valnRU4kbPOt"
      }
    },
    {
      "cell_type": "markdown",
      "source": [
        "### Explore, Clean, and Visualize Your Data\n",
        "\n",
        "Explore and clean up your data before performing any transformations on it. You may have done some of the following tasks as you collected and constructed your dataset:\n",
        "\n",
        "* Examine several rows of data.\n",
        "* Check basic statistics.\n",
        "* Fix missing numerical entries.\n",
        "\n",
        "**Visualize your data frequently.** Graphs can help find anomalies or patterns that aren't clear from numerical statistics. Therefore, before getting too far into analysis, look at your data graphically, either via scatter plots or histograms. View graphs not only at the beginning of the pipeline, but also throughout transformation. Visualizations will help you continually check your assumptions and see the effects of any major changes."
      ],
      "metadata": {
        "id": "yvKV_aJ6clVI"
      }
    },
    {
      "cell_type": "markdown",
      "source": [
        "## Transforming Numeric Data\n",
        "\n",
        "You may need to apply two kinds of transformations to numeric data:\n",
        "\n",
        "* **Normalizing** - transforming numeric data to the same scale as other numeric data.\n",
        "* **Bucketing** - transforming numeric (usually continuous) data to categorical data."
      ],
      "metadata": {
        "id": "wZ7CrRdZc8pX"
      }
    },
    {
      "cell_type": "markdown",
      "source": [
        "### Why Normalize Numeric Features?\n",
        "\n",
        "We strongly recommend normalizing a data set that has numeric features covering distinctly different ranges (for example, age and income). When different features have different ranges, gradient descent can \"bounce\" and slow down convergence. Optimizers like [Adagrad](https://developers.google.com/machine-learning/glossary#adagrad) and [Adam](https://arxiv.org/abs/1412.6980) protect against this problem by creating a separate effective learning rate for each feature.\n",
        "\n",
        "We also recommend normalizing a single numeric feature that covers a wide range, such as \"city population.\" If you don't normalize the \"city population\" feature, training the model might generate NaN errors. Unfortunately, optimizers like Adagrad and Adam can't prevent NaN errors when there is a wide range of values within a single feature.\n",
        "\n",
        "###### Warning: When normalizing, ensure that the same normalizations are applied at serving time to avoid skew."
      ],
      "metadata": {
        "id": "XylRN07DdMB5"
      }
    },
    {
      "cell_type": "markdown",
      "source": [
        "### Normalization\n",
        "\n",
        "The goal of normalization is to transform features to be on a similar scale. This improves the performance and training stability of the model.\n",
        "\n",
        "Four common normalization techniques may be useful:\n",
        "\n",
        "* scaling to a range\n",
        "* clipping\n",
        "* log scaling\n",
        "* z-score\n",
        "\n",
        "The following charts show the effect of each normalization technique on the distribution of the raw feature (price) on the left. The charts are based on the data set from 1985 Ward's Automotive Yearbook that is part of the [UCI Machine Learning Repository under Automobile Data Set](https://archive.ics.uci.edu/ml/datasets/automobile)."
      ],
      "metadata": {
        "id": "bxaSsZEsdq1J"
      }
    },
    {
      "cell_type": "markdown",
      "source": [
        "<div align=\"center\">\n",
        "\n",
        "<img src=\"https://developers.google.com/static/machine-learning/data-prep/images/normalizations-at-a-glance-v2.svg\" />\n",
        "\n",
        "<strong>Figure 1. Summary of normalization techniques.</strong>\n",
        "\n",
        "</div>"
      ],
      "metadata": {
        "id": "8T2dy5KXeKIZ"
      }
    },
    {
      "cell_type": "markdown",
      "source": [
        "#### Scaling to a range\n",
        "\n",
        "[Recall from MLCC](https://developers.google.com/machine-learning/crash-course/representation/cleaning-data) that [**scaling**](https://developers.google.com/machine-learning/glossary#scaling) means converting floating-point feature values from their natural range (for example, 100 to 900) into a standard range—usually 0 and 1 (or sometimes -1 to +1). Use the following simple formula to scale to a range:\n",
        "\n",
        "$$x' = \\dfrac{(x - x_{min})}{(x_{max} - x_{min})}$$\n",
        "\n",
        "Scaling to a range is a good choice when both of the following conditions are met:\n",
        "\n",
        "* You know the approximate upper and lower bounds on your data with few or no outliers.\n",
        "* Your data is approximately uniformly distributed across that range.\n",
        "\n",
        "A good example is age. Most age values falls between 0 and 90, and every part of the range has a substantial number of people.\n",
        "\n",
        "In contrast, you would not use scaling on income, because only a few people have very high incomes. The upper bound of the linear scale for income would be very high, and most people would be squeezed into a small part of the scale."
      ],
      "metadata": {
        "id": "5weZCDPieZtA"
      }
    },
    {
      "cell_type": "markdown",
      "source": [
        "#### Feature Clipping\n",
        "\n",
        "If your data set contains extreme outliers, you might try feature clipping, which caps all feature values above (or below) a certain value to fixed value. For example, you could clip all temperature values above 40 to be exactly 40.\n",
        "\n",
        "You may apply feature clipping before or after other normalizations.\n",
        "\n",
        "**Formula: Set min/max values to avoid outliers.**"
      ],
      "metadata": {
        "id": "FAAQzLr3fGNU"
      }
    },
    {
      "cell_type": "markdown",
      "source": [
        "<div align=\"center\">\n",
        "\n",
        "<img src=\"https://developers.google.com/static/machine-learning/data-prep/images/norm-clipping-outliers.svg\" />\n",
        "\n",
        "<strong>Figure 2. Comparing a raw distribution and its clipped version.</strong>\n",
        "\n",
        "</div>"
      ],
      "metadata": {
        "id": "2-Nj5gEIfZx4"
      }
    },
    {
      "cell_type": "markdown",
      "source": [
        "Another simple clipping strategy is to clip by z-score to +-Nσ (for example, limit to +-3σ). Note that σ is the standard deviation."
      ],
      "metadata": {
        "id": "bU4jD5Gkfk1q"
      }
    },
    {
      "cell_type": "markdown",
      "source": [
        "#### Log Scaling\n",
        "\n",
        "Log scaling computes the log of your values to compress a wide range to a narrow range.\n",
        "\n",
        "$$x' = log(x)$$\n",
        "\n",
        "Log scaling is helpful when a handful of your values have many points, while most other values have few points. This data distribution is known as the *power law* distribution. Movie ratings are a good example. In the chart below, most movies have very few ratings (the data in the tail), while a few have lots of ratings (the data in the head). Log scaling changes the distribution, helping to improve linear model performance."
      ],
      "metadata": {
        "id": "BiguCTUnfwBb"
      }
    },
    {
      "cell_type": "markdown",
      "source": [
        "<div align=\"center\">\n",
        "\n",
        "<img src=\"https://developers.google.com/static/machine-learning/data-prep/images/norm-log-scaling-movie-ratings.svg\" />\n",
        "\n",
        "<strong>Figure 3. Comparing a raw distribution to its log.</strong>\n",
        "\n",
        "</div>"
      ],
      "metadata": {
        "id": "LxRYZgihgSYx"
      }
    },
    {
      "cell_type": "markdown",
      "source": [
        "#### Z-Score\n",
        "\n",
        "Z-score is a variation of scaling that represents the number of standard deviations away from the mean. You would use z-score to ensure your feature distributions have mean = 0 and std = 1. It’s useful when there are a few outliers, but not so extreme that you need clipping.\n",
        "\n",
        "The formula for calculating the z-score of a point, *x*, is as follows:\n",
        "\n",
        "$$x' = \\dfrac{x - μ}{σ}$$"
      ],
      "metadata": {
        "id": "IKNuciLhgh0N"
      }
    },
    {
      "cell_type": "markdown",
      "source": [
        "<div align=\"center\">\n",
        "\n",
        "<img src=\"https://developers.google.com/static/machine-learning/data-prep/images/norm-z-score.svg\" />\n",
        "\n",
        "<strong>Figure 4. Comparing a raw distribution to its z-score distribution.</strong>\n",
        "\n",
        "</div>"
      ],
      "metadata": {
        "id": "fCLbugcBg-KO"
      }
    },
    {
      "cell_type": "markdown",
      "source": [
        "Notice that z-score squeezes raw values that have a range of ~40000 down into a range from roughly -1 to +4.\n",
        "\n",
        "Suppose you're not sure whether the outliers truly are extreme. In this case, start with z-score unless you have feature values that you don't want the model to learn; for example, the values are the result of measurement error or a quirk."
      ],
      "metadata": {
        "id": "3Pm2pOyghLMH"
      }
    },
    {
      "cell_type": "markdown",
      "source": [
        "### Bucketing\n",
        "\n",
        "Let's revisit the latitude plot from above."
      ],
      "metadata": {
        "id": "jonjRJ5Whxe9"
      }
    },
    {
      "cell_type": "markdown",
      "source": [
        "<div align=\"center\">\n",
        "\n",
        "<img src=\"https://developers.google.com/static/machine-learning/crash-course/images/ScalingBinningPart1.svg\" />\n",
        "\n",
        "<strong>Figure 1: House prices versus latitude.</strong>\n",
        "\n",
        "</div>"
      ],
      "metadata": {
        "id": "tkb4LTpLiqBP"
      }
    },
    {
      "cell_type": "markdown",
      "source": [
        "In cases like the latitude example when there's no linear relationship between the feature and the result, you need to divide the latitudes into buckets to learn something different about housing values for each bucket. This transformation of numeric features into categorical features, using a set of thresholds, is called [**bucketing**](https://developers.google.com/machine-learning/glossary#bucketing) (or binning). In this bucketing example, the boundaries are equally spaced."
      ],
      "metadata": {
        "id": "pnQLVZzNi4QD"
      }
    },
    {
      "cell_type": "markdown",
      "source": [
        "<div align=\"center\">\n",
        "\n",
        "<img src=\"https://developers.google.com/static/machine-learning/crash-course/images/ScalingBinningPart2.svg\" />\n",
        "\n",
        "<strong>Figure 2: House prices versus latitude, now divided into buckets.</strong>\n",
        "\n",
        "</div>"
      ],
      "metadata": {
        "id": "Cxz9MWQbjFnD"
      }
    },
    {
      "cell_type": "markdown",
      "source": [
        "### Quantile Bucketing\n",
        "\n",
        "With one feature per bucket, the model uses as much capacity for a single example in the >45000 range as for all the examples in the 5000-10000 range. This seems wasteful. How might we improve this situation?"
      ],
      "metadata": {
        "id": "pKItWrEcjWSC"
      }
    },
    {
      "cell_type": "markdown",
      "source": [
        "<div align=\"center\">\n",
        "\n",
        "<img src=\"https://developers.google.com/static/machine-learning/data-prep/images/bucketizing-needed.svg\" />\n",
        "\n",
        "<strong>Figure 3: Number of cars sold at different prices.</strong>\n",
        "\n",
        "</div>"
      ],
      "metadata": {
        "id": "C_5LiJ6RjlVJ"
      }
    },
    {
      "cell_type": "markdown",
      "source": [
        "The problem is that equally spaced buckets don’t capture this distribution well. The solution lies in creating buckets that each have the same number of points. This technique is called [**quantile bucketing**](https://developers.google.com/machine-learning/glossary#quantile_bucketing). For example, the following figure divides car prices into quantile buckets. In order to get the same number of examples in each bucket, some of the buckets encompass a narrow price span while others encompass a very wide price span."
      ],
      "metadata": {
        "id": "OkPXSeafjzrP"
      }
    },
    {
      "cell_type": "markdown",
      "source": [
        "<div align=\"center\">\n",
        "\n",
        "<img src=\"https://developers.google.com/static/machine-learning/data-prep/images/bucketizing-applied.svg\" />\n",
        "\n",
        "<strong>Figure 4: Quantile bucketing gives each bucket about the same number of cars.</strong>\n",
        "\n",
        "</div>"
      ],
      "metadata": {
        "id": "1-kFDZh6j-rl"
      }
    },
    {
      "cell_type": "markdown",
      "source": [
        "### Summary\n",
        "\n",
        "If you choose to bucketize your numerical features, be clear about how you are setting the boundaries and which type of bucketing you’re applying:\n",
        "\n",
        "* **Buckets with equally spaced boundaries:** the boundaries are fixed and encompass the same range (for example, 0-4 degrees, 5-9 degrees, and 10-14 degrees, or $5,000-$9,999, $10,000-$14,999, and $15,000-$19,999). Some buckets could contain many points, while others could have few or none.\n",
        "* **Buckets with quantile boundaries:** each bucket has the same number of points. The boundaries are not fixed and could encompass a narrow or wide span of values."
      ],
      "metadata": {
        "id": "SsZFa-i6kW-a"
      }
    },
    {
      "cell_type": "markdown",
      "source": [
        "## Transforming Categorical Data\n",
        "\n",
        "Some of your features may be discrete values that aren’t in an ordered relationship. Examples include breeds of dogs, words, or postal codes. These features are known as [**categorical**](https://developers.google.com/machine-learning/glossary#categorical_data) and each value is called a category. You can represent categorical values as strings or even numbers, but you won't be able to compare these numbers or subtract them from each other.\n",
        "\n",
        "Oftentimes, you should represent features that contain integer values as categorical data instead of as numerical data. For example, consider a postal code feature in which the values are integers. If you mistakenly represent this feature numerically, then you're asking the model to find a numeric relationship between different postal codes; for example, you're expecting the model to determine that postal code 20004 is twice (or half) the signal as postal code 10002. By representing postal codes as categorical data, you enable the model to find separate signals for each individual postal code.\n",
        "\n",
        "If the number of categories of a data field is small, such as the day of the week or a limited palette of colors, you can make a unique feature for each category. For example:"
      ],
      "metadata": {
        "id": "3idMSp-9rm0H"
      }
    },
    {
      "cell_type": "markdown",
      "source": [
        "<div align=\"center\">\n",
        "\n",
        "<img src=\"https://developers.google.com/static/machine-learning/data-prep/images/categorical-netview.svg\" />\n",
        "\n",
        "<strong>Figure 1: A unique feature for each category.</strong>\n",
        "\n",
        "</div>"
      ],
      "metadata": {
        "id": "JJnPY55asNwO"
      }
    },
    {
      "cell_type": "markdown",
      "source": [
        "A model can then learn a separate weight for each color. For example, perhaps the model could learn that red cars are more expensive than green cars.\n",
        "\n",
        "The features can then be indexed."
      ],
      "metadata": {
        "id": "rKoivhWqsUff"
      }
    },
    {
      "cell_type": "markdown",
      "source": [
        "<div align=\"center\">\n",
        "\n",
        "<img src=\"https://developers.google.com/static/machine-learning/data-prep/images/categorical-netview-indexed.svg\" />\n",
        "\n",
        "<strong>Figure 2: Indexed features.</strong>\n",
        "\n",
        "</div>"
      ],
      "metadata": {
        "id": "7sCMLoRhswx6"
      }
    },
    {
      "cell_type": "markdown",
      "source": [
        "This sort of mapping is called a **vocabulary**."
      ],
      "metadata": {
        "id": "v8eYjIRIs5G-"
      }
    },
    {
      "cell_type": "markdown",
      "source": [
        "### Vocabulary\n",
        "\n",
        "In a vocabulary, each value represents a unique feature.\n",
        "\n",
        "| Index Number | Category |\n",
        "|--|--|\n",
        "| 0 | Red |\n",
        "| 1 | Orange |\n",
        "| 2 | Blue |\n",
        "| ... | ... |\n",
        "\n",
        "The model looks up the index from the string, assigning 1.0 to the corresponding slot in the feature vector and 0.0 to all the other slots in the feature vector."
      ],
      "metadata": {
        "id": "_iConiGKtAir"
      }
    },
    {
      "cell_type": "markdown",
      "source": [
        "<div align=\"center\">\n",
        "\n",
        "<img src=\"https://developers.google.com/static/machine-learning/data-prep/images/vocabulary-index-sparse-feature.svg\" />\n",
        "\n",
        "<strong>Figure 3: The end-to-end process to map categories to feature vectors.</strong>\n",
        "\n",
        "</div>"
      ],
      "metadata": {
        "id": "FP1ODR7cth4N"
      }
    },
    {
      "cell_type": "markdown",
      "source": [
        "**Note about sparse representation**\n",
        "\n",
        "If your categories are the days of the week, you might, for example, end up representing Friday with the feature vector [0, 0, 0, 0, 1, 0, 0]. However, most implementations of ML systems will represent this vector in memory with a sparse representation. A common representation is a list of non-empty values and their corresponding indices—for example, 1.0 for the value and [4] for the index. This allows you to spend less memory storing a huge amount of 0s and allows more efficient matrix multiplication. In terms of the underlying math, the [4] is equivalent to [0, 0, 0, 0, 1, 0, 0]."
      ],
      "metadata": {
        "id": "iUpuzTMmt9a-"
      }
    },
    {
      "cell_type": "markdown",
      "source": [
        "### Out of Vocab (OOV)\n",
        "\n",
        "Just as numerical data contains outliers, categorical data does, as well. For example, consider a data set containing descriptions of cars. One of the features of this data set could be the car's color. Suppose the common car colors (black, white, gray, and so on) are well represented in this data set and you make each one of them into a category so you can learn how these different colors affect value. However, suppose this data set contains a small number of cars with eccentric colors (mauve, puce, avocado). Rather than giving each of these colors a separate category, you could lump them into a catch-all category called **Out of Vocab (OOV)**. By using OOV, the system won't waste time training on each of those rare colors."
      ],
      "metadata": {
        "id": "lA-tyg9WuL5K"
      }
    },
    {
      "cell_type": "markdown",
      "source": [
        "#### Hashing\n",
        "\n",
        "Another option is to hash every string (category) into your available index space. Hashing often causes collisions, but you rely on the model learning some shared representation of the categories in the same index that works well for the given problem.\n",
        "\n",
        "For important terms, hashing can be worse than selecting a vocabulary, because of collisions. On the other hand, hashing doesn't require you to assemble a vocabulary, which is advantageous if the feature distribution changes heavily over time."
      ],
      "metadata": {
        "id": "leUJHKe4ujOe"
      }
    },
    {
      "cell_type": "markdown",
      "source": [
        "<div align=\"center\">\n",
        "\n",
        "<img src=\"https://developers.google.com/static/machine-learning/data-prep/images/vocab-hash-string.svg\" />\n",
        "\n",
        "<strong>Figure 4: Mapping items to a vocabulary.</strong>\n",
        "\n",
        "</div>"
      ],
      "metadata": {
        "id": "vOYu_7I0uwFy"
      }
    },
    {
      "cell_type": "markdown",
      "source": [
        "#### Hybrid of Hashing and Vocabulary\n",
        "\n",
        "You can take a hybrid approach and combine hashing with a vocabulary. Use a vocabulary for the most important categories in your data, but replace the OOV bucket with multiple OOV buckets, and use hashing to assign categories to buckets.\n",
        "\n",
        "The categories in the hash buckets must share an index, and the model likely won't make good predictions, but we have allocated some amount of memory to attempt to learn the categories outside of our vocabulary."
      ],
      "metadata": {
        "id": "HL223zIQu5Rm"
      }
    },
    {
      "cell_type": "markdown",
      "source": [
        "<div align=\"center\">\n",
        "\n",
        "<img src=\"https://developers.google.com/static/machine-learning/data-prep/images/vocab-hybrid.svg\" />\n",
        "\n",
        "<strong>Figure 5: Hybrid approach combining vocabulary and hashing.</strong>\n",
        "\n",
        "</div>"
      ],
      "metadata": {
        "id": "K2j7OR-QvN4e"
      }
    },
    {
      "cell_type": "markdown",
      "source": [
        "### Note about Embeddings\n",
        "\n",
        "An [**embedding**](https://developers.google.com/machine-learning/crash-course/glossary#embeddings) is a categorical feature represented as a continuous-valued feature. Deep models frequently convert the indices from an index to an embedding."
      ],
      "metadata": {
        "id": "rtIHJfrPvsVq"
      }
    },
    {
      "cell_type": "markdown",
      "source": [
        "<div align=\"center\">\n",
        "\n",
        "<img src=\"https://developers.google.com/static/machine-learning/data-prep/images/vocabulary-index-sparse-feature-embedding.svg\" />\n",
        "\n",
        "<strong>Figure 6: Sparse feature vectors via embedding</strong>\n",
        "\n",
        "</div>"
      ],
      "metadata": {
        "id": "AIxmsE2Lv0il"
      }
    },
    {
      "cell_type": "markdown",
      "source": [
        "The other transformations we've discussed could be stored on disk, but embeddings are different. Since embeddings are trained, they're not a typical data transformation—they are part of the model. They're trained with other model weights, and functionally are equivalent to a layer of weights.\n",
        "\n",
        "What about pretrained embeddings? Pretrained embeddings are still typically modifiable during training, so they're still conceptually part of the model."
      ],
      "metadata": {
        "id": "zsLoQkq6v-Z8"
      }
    },
    {
      "cell_type": "markdown",
      "metadata": {
        "id": "jnbYFpdo-kJq"
      },
      "source": [
        "# Regularization for Simplicity\n",
        "\n",
        "**Regularization** means penalizing the complexity of a model to reduce overfitting."
      ]
    },
    {
      "cell_type": "markdown",
      "metadata": {
        "id": "yASiukdf-kJr"
      },
      "source": [
        "## L2 Regularization\n",
        "\n",
        "Consider the following **generalization curve**, which shows the loss for both the training set and validation set against the number of training iterations."
      ]
    },
    {
      "cell_type": "markdown",
      "metadata": {
        "id": "7ZWsH37n-kJu"
      },
      "source": [
        "<div align='center'>\n",
        "\n",
        "  <img src='https://developers.google.com/static/machine-learning/crash-course/images/RegularizationTwoLossFunctions.svg' />\n",
        "\n",
        "  <strong>Figure 1. Loss on training set and validation set.</strong>\n",
        "</div>"
      ]
    },
    {
      "cell_type": "markdown",
      "metadata": {
        "id": "1M3_31Zt-kJx"
      },
      "source": [
        "Figure 1 shows a model in which training loss gradually decreases, but validation loss eventually goes up. In other words, this generalization curve shows that the model is [overfitting](https://developers.google.com/machine-learning/crash-course/generalization/peril-of-overfitting) to the data in the training set. Channeling our inner [Ockham](https://developers.google.com/machine-learning/crash-course/generalization/peril-of-overfitting#ockham), perhaps we could prevent overfitting by penalizing complex models, a principle called **regularization**.\n",
        "\n",
        "In other words, instead of simply aiming to minimize loss (empirical risk minimization):\n",
        "\n",
        "<div class=\"math-jax-block\">\n",
        "\n",
        "$$\\mathrm{minimize(Loss(Data \\vert Model))}$$\n",
        "\n",
        "</div>\n",
        "\n",
        "we'll now minimize loss+complexity, which is called **structural risk minimization**.\n",
        "\n",
        "<div class=\"math-jax-block\">\n",
        "\n",
        "$$\\mathrm{minimize(Loss(Data \\vert Model) + \\mathrm{complexity(Model)})}$$\n",
        "\n",
        "</div>\n",
        "\n",
        "Our training optimization algorithm is now a function of two terms: the **loss term**, which measures how well the model fits the data, and the **regularization term**, which measures model complexity.\n",
        "\n",
        "There are two commom ways to think of model complexity:\n",
        "\n",
        "  * Model complexity as a function of the *weights* of all the features in the model.\n",
        "  * Model complexity as a function of the *total number of features* with nonzero weights.\n",
        "\n",
        "If model complexity is a function of weights, a feature weight with a high absolute value is more complex that a feature weight with a low absolute value.\n",
        "\n",
        "We can quantify complexity using the $L_{2}$ **regularization** formula, which defines the regularization term as the sum of the squares of all the feature weights:\n",
        "\n",
        "<div class=\"math-jax-block\">\n",
        "\n",
        "$$\\mathrm{L_{2}\\ regularization\\ term} = \\mathrm{\\lvert \\lvert w \\rvert \\rvert}^2_{2} = w_{1}^2 + w_{2}^2 + ... + w_{n}^2$$\n",
        "\n",
        "</div>\n",
        "\n",
        "In this formula, weights close to zero have little effect on model complexity, while outlier weights can have a huge impact.\n",
        "\n",
        "For example, a linear model with the following weights:\n",
        "\n",
        "<div class=\"math-jax-block\">\n",
        "\n",
        "$$\\{w_{1} = 0.2, w_{2} = 0.5, w_{3} = 5, w_{4} = 1, w_{5} = 0.25, w_{6} = 0.75\\}$$\n",
        "\n",
        "</div>\n",
        "\n",
        "Has an $L_{2}$ regularization term of 26.915:\n",
        "\n",
        "<div class=\"math-jax-block\">\n",
        "\n",
        "$= w_{1}^2 + w_{2}^2 + w_{3}^2 + w_{4}^2 + w_{5}^2 + w_{6}^2$\n",
        "\n",
        "</div>\n",
        "\n",
        "<div class=\"math-jax-block\">\n",
        "\n",
        "$= 0.2^2 + 0.5^2 + 5^2 + 1^2 + 0.25^2 + 0.75^2$\n",
        "\n",
        "</div>\n",
        "\n",
        "<div class=\"math-jax-block\">\n",
        "\n",
        "$= 0.04 + 0.24 + 25 + 1 + 0.0625 + 0.5625$\n",
        "\n",
        "</div>\n",
        "\n",
        "<div class=\"math-jax-block\">\n",
        "\n",
        "$= 26.915$\n",
        "\n",
        "</div>\n",
        "\n",
        "But $w_{3}$, with a squared value of 25, contributes nearly all the complexity. The sum of the squares of all five other weights adds just 1.915 to the $L_{2}$ regularization term."
      ]
    },
    {
      "cell_type": "markdown",
      "metadata": {
        "id": "BmTbtZ7G-kJz"
      },
      "source": [
        "## Lambda\n",
        "\n",
        "Model developers tune the overall impact of the regularization term by multiplying its value by a scalar known as **lambda** (also called the **regularization rate**). That is, model devvelopers aim to do the following:\n",
        "\n",
        "<div class=\"math-jax-block\">\n",
        "\n",
        "$$\\mathrm{minimize(Loss(Data \\vert Model) + \\lambda \\ complexity(Model))}$$\n",
        "\n",
        "</div>\n",
        "\n",
        "Performing $L_{2}$ regularization has the following effect on the model:\n",
        "\n",
        "  * Encourages weight values toward 0 (but not exactly 0).\n",
        "  * Encourages the mean of the weights toward 0, with a normal (bell-shaped or Gaussian) distribution.\n",
        "\n",
        "Increasing the lambda value strengthens the regularization effect. For example, the histogram of weights for a high value of lambda might look as shown in Figure 2."
      ]
    },
    {
      "cell_type": "markdown",
      "metadata": {
        "id": "EFHnE9N8-kJ0"
      },
      "source": [
        "<div align='center'>\n",
        "  <img src='https://developers.google.com/static/machine-learning/crash-course/images/HighLambda.svg' height='400px' />\n",
        "\n",
        "  <strong>Figure 2. Histogram of weights.</strong>\n",
        "</div>"
      ]
    },
    {
      "cell_type": "markdown",
      "metadata": {
        "id": "ELxQpp_t-kJ0"
      },
      "source": [
        "Lowering the value of lambda tends to yield a flatter histogram, as shown in Figure 3."
      ]
    },
    {
      "cell_type": "markdown",
      "metadata": {
        "id": "MBbyUPoU-kJ0"
      },
      "source": [
        "<div align='center'>\n",
        "  <img src='https://developers.google.com/static/machine-learning/crash-course/images/LowLambda.svg' />\n",
        "\n",
        "  <strong>Figure 3. Histogram of weights produced by a lower lambda value.</strong>\n",
        "</div>"
      ]
    },
    {
      "cell_type": "markdown",
      "metadata": {
        "id": "GykIF2-s-kJ2"
      },
      "source": [
        "When choosing a lambda value, the goal is to strike the right balance between simplicity and training-data fit:\n",
        "\n",
        "* If your lambda value is too high, your model will be simple, but you run the risk of underfitting your data. Your model won't learn enough about the training data to make useful predictions.\n",
        "* If your lambda value is too low, your model will be more complex, and you run the risk of overfitting your data. Your model will learn too much about the particularities of the training data, and won't be able to generalize to new data.\n",
        "\n",
        "The ideal value of lambda produces a model that generalizes well to new, previously unseen data. Unfortunately, that ideal value of lambda is data-dependent, so you'll need to do some tuning."
      ]
    },
    {
      "cell_type": "markdown",
      "metadata": {
        "id": "Q4MvaZEL-kJ4"
      },
      "source": [
        "### L2 regularization and Learning rate\n",
        "\n",
        "There's a close connection between learning rate and lambda. Strong L2 regularization values tend to drive feature weights closer to 0. Lower learning rates (with early stopping) often produce the same effect because the steps away from 0 aren't as large. Consequently, tweaking learning rate and lambda simultaneously may have confounding effects.\n",
        "\n",
        "**Early stopping** means ending training before the model fully reaches convergence. In practice, we often end up with some amount of implicit early stopping when training in an [online](https://developers.google.com/machine-learning/crash-course/production-ml-systems) (continuous) fashion. That is, some new trends just haven't had enough data yet to converge.\n",
        "\n",
        "As noted, the effects from changes to regularization parameters can be confounded with the effects from changes in learning rate or number of iterations. One useful practice (when training across a fixed batch of data) is to give yourself a high enough number of iterations that early stopping doesn't play into things."
      ]
    },
    {
      "cell_type": "markdown",
      "metadata": {
        "id": "LRASWCaz-kJ8"
      },
      "source": [
        "# Logistic Regression\n",
        "\n",
        "Instead of predicting *exactly* 0 or 1, **logistic regression** generates a probability—a value between 0 and 1, exclusive. For example, consider a logistic regression model for spam detection. If the model infers a value of 0.932 on a particular email message, it implies a 93.2% probability that the email message is spam. More precisely, it means that in the limit of *infinite* training examples, the set of examples for which the model predicts 0.932 will actually be spam 93.2% of the time and the remaining 6.8% will not."
      ]
    },
    {
      "cell_type": "markdown",
      "metadata": {
        "id": "5876rS6q-kJ-"
      },
      "source": [
        "## Calculating a Probability\n",
        "\n",
        "Many problems require a probability estimate as output. Logistic regression is an extremely efficient mechanism for calculating probabilities. Practically speaking, you can use the returned probability in either of the following two ways:\n",
        "\n",
        "* \"As is\"\n",
        "* Converted to a binary category.\n",
        "\n",
        "Let's consider how we might use the probability \"as is.\" Suppose we create a logistic regression model to predict the probability that a dog will bark during the middle of the night. We'll call that probability:\n",
        "\n",
        "$$\\mathrm{p}(\\mathrm{bark} \\vert \\mathrm{night})$$\n",
        "\n",
        "If the logistic regression model predicts $\\mathrm{p}(\\mathrm{bark} \\vert \\mathrm{night}) = 0.05$, then over a year, the dog's owners should be startled awake approximately 18 times:\n",
        "\n",
        "$$\\mathrm{startled} = \\mathrm{p}(\\mathrm{bark} \\vert \\mathrm{night}) \\cdot \\mathrm{nights}$$\n",
        "$$= 0.05 \\cdot 365$$\n",
        "$$= 18$$\n",
        "\n",
        "In many cases, you'll map the logistic regression output into the solution to a binary classification problem, in which the goal is to correctly predict one of two possible labels (e.g., \"spam\" or \"not spam\").\n",
        "\n",
        "You might be wondering how a logistic regression model can ensure output that always falls between 0 and 1. As it happens, a **sigmoid function**, defined as follows, produces output having those same characteristics:\n",
        "\n",
        "$$y = \\dfrac{1}{1 + e^{-z}}$$\n",
        "\n",
        "The sigmoid function yields the following plot:"
      ]
    },
    {
      "cell_type": "markdown",
      "metadata": {
        "id": "4k1V-y_q-kKB"
      },
      "source": [
        "<div align='center'>\n",
        "  <img src='https://developers.google.com/machine-learning/crash-course/images/SigmoidFunction.png' />\n",
        "\n",
        "  <strong>Figure 1: Sigmoid function.</strong>\n",
        "</div>"
      ]
    },
    {
      "cell_type": "markdown",
      "metadata": {
        "id": "dNENTk_X-kKD"
      },
      "source": [
        "If $z$ represents the output of the linear layer of a model trained with logistic regression, then $sigmoid(z)$ will yield a value (a probability) between 0 and 1. In mathematical terms:\n",
        "\n",
        "$$y^ \\prime = \\dfrac{1}{1 + e^{-z}}$$\n",
        "\n",
        "where:\n",
        "\n",
        "* $y^ \\prime$ is the output of the logistic regression model for a particular example.\n",
        "\n",
        "For $z$:\n",
        "\n",
        "<div class=\"math-jax-block\">\n",
        "\n",
        "$$z = b + w_{1}x_{1} + w_{2}x_{2} + ... + w_{N}x_{N}$$\n",
        "\n",
        "</div>\n",
        "\n",
        "where:\n",
        "\n",
        "  * The $w$ values are the model's learned weights, and $b$ is the bias.\n",
        "  * The $x$ values are the feature values for a particular example.\n",
        "\n",
        "Note that $z$ is also referred to as the *log-odds* because the inverse of the sigmoid states that $z$ can be defined as the log of the probability of the 1 label (eg., \"dog barks\") divided by the probability of the 0 label (eg., \"dog doesn't bark\"):\n",
        "\n",
        "$$z = \\mathrm{log} \\left( \\dfrac{y}{1- y} \\right)$$\n",
        "\n",
        "Here is the sigmoid function with ML labels:"
      ]
    },
    {
      "cell_type": "markdown",
      "metadata": {
        "id": "GtE7QiwP-kKF"
      },
      "source": [
        "<div align='center'>\n",
        "  <img src='https://developers.google.com/static/machine-learning/crash-course/images/LogisticRegressionOutput.svg' />\n",
        "\n",
        "  <strong>Figure 2: Logistic regression output.</strong>\n",
        "</div>"
      ]
    },
    {
      "cell_type": "markdown",
      "metadata": {
        "id": "KpkYFUZN-kKI"
      },
      "source": [
        "## Loss and Regularization"
      ]
    },
    {
      "cell_type": "markdown",
      "metadata": {
        "id": "eXpmNjFf-kKJ"
      },
      "source": [
        "### Loss function for Logistic Regression\n",
        "\n",
        "The loss function for linear regression is squared loss. The loss function for logistic regression is **Log Loss**, which is defined as follows:\n",
        "\n",
        "<div class=\"math-jax-block\">\n",
        "\n",
        "$$\\mathrm{Log\\ Loss} = \\sum_{(x,y) \\in D} -ylog(y^ \\prime) - (1 - y)log(1 - y^ \\prime)$$\n",
        "\n",
        "</div>\n",
        "\n",
        "where:\n",
        "\n",
        "* $(x,y) \\in D$ is the data set containing many labeled examples, which are $(x,y)$ pairs.\n",
        "* $y$ is the label in a labeled example. Since this is logistic regression, every value of $y$ must either be 0 or 1.\n",
        "* $y^ \\prime$ is the predicted value (somewhere between 0 and 1), given the set of features in $x$."
      ]
    },
    {
      "cell_type": "markdown",
      "metadata": {
        "id": "5dp3T_Oy-kKL"
      },
      "source": [
        "### Regularization in Logistic Regression\n",
        "\n",
        "[Regularization](https://developers.google.com/machine-learning/crash-course/regularization-for-simplicity/video-lecture) is extremely important in logistic regression modeling. Without regularization, the asymptotic nature of logistic regression would keep driving loss towards 0 in high dimensions. Consequently, most logistic regression models use one of the following two strategies to dampen model complexity:\n",
        "\n",
        "* $L_{2}$ regularization\n",
        "* Early stopping, that is, limiting the number of training steps or the learning rate.\n",
        "\n",
        "Imagine that you assign a unique id to each example, and map each id to its own feature. If you don't specify a regularization function, the model will become completely overfit. That's because the model would try to drive loss to zero on all examples and never get there, driving the weights for each indicator feature to +infinity or -infinity. This can happen in high dimensional data with feature crosses, when there’s a huge mass of rare crosses that happen only on one example each.\n",
        "\n",
        "Fortunately, using L2 or early stopping will prevent this problem."
      ]
    },
    {
      "cell_type": "markdown",
      "metadata": {
        "id": "gacojX8e-kKM"
      },
      "source": [
        "# Classification"
      ]
    },
    {
      "cell_type": "markdown",
      "metadata": {
        "id": "VApDu0fp-kKN"
      },
      "source": [
        "## Thresholding\n",
        "\n",
        "Logistic regression returns a probability. You can use the returned probability \"as is\" (for example, the probability that the user will click on this ad is 0.00023) or convert the returned probability to a binary value (for example, this email is spam).\n",
        "\n",
        "A logistic regression model that returns 0.9995 for a particular email message is predicting that it is very likely to be spam. Conversely, another email message with a prediction score of 0.0003 on that same logistic regression model is very likely not spam. However, what about an email message with a prediction score of 0.6? In order to map a logistic regression value to a binary category, you must define a **classification threshold** (also called the **decision threshold**). A value above that threshold indicates \"spam\"; a value below indicates \"not spam.\" It is tempting to assume that the classification threshold should always be 0.5, but thresholds are problem-dependent, and are therefore values that you must tune."
      ]
    },
    {
      "cell_type": "markdown",
      "metadata": {
        "id": "bIigMT3Q-kKP"
      },
      "source": [
        "## True vs. False and Positive vs. Negative\n",
        "\n",
        "In this section, we'll define the primary building blocks of the metrics we'll use to evaluate classification models. But first, a fable:\n",
        "\n",
        "**An Aesop's Fable: The Boy Who Cried Wolf (compressed)**\n",
        "  \n",
        "A shepherd boy gets bored tending the town's flock. To have some fun, he cries out, \"Wolf!\" even though no wolf is in sight. The villagers run to protect the flock, but then get really mad when they realize the boy was playing a joke on them.\n",
        "\n",
        "[Iterate previous paragraph N times.]\n",
        "\n",
        "One night, the shepherd boy sees a real wolf approaching the flock and calls out, \"Wolf!\" The villagers refuse to be fooled again and stay in their houses. The hungry wolf turns the flock into lamb chops. The town goes hungry. Panic ensues.\n",
        "\n",
        "Let's make the following definitions:\n",
        "\n",
        "* \"Wolf\" is a **positive class**.\n",
        "* \"No wolf\" is a **negative class**.\n",
        "\n",
        "We can summarize our \"wolf-prediction\" model using a 2x2 [confusion matrix](https://developers.google.com/machine-learning/glossary#confusion_matrix) that depicts all four possible outcomes:\n",
        "\n",
        "* **True Positive (TP):**\n",
        "  * Reality: A wolf threatened.\n",
        "  * Shepherd said: \"Wolf.\"\n",
        "  * Outcome: Shepherd is a hero.\n",
        "\n",
        "* **False Positive (FP):**\n",
        "  * Reality: No wolf threatened.\n",
        "  * Shepherd said: \"Wolf.\"\n",
        "  * Outcome: Villagers are angry at shepherd for waking them up.\n",
        "\n",
        "* **True Negative (TN):**\n",
        "  * Reality: No wolf threatened.\n",
        "  * Shepherd said: \"No wolf.\"\n",
        "  * Outcome: Everyone is fine.\n",
        "\n",
        "* **False Negative (FN):**\n",
        "  * Reality: A wolf threatened.\n",
        "  * Shepherd said: \"No wolf.\"\n",
        "  * Outcome: The wolf ate all the sheep.\n",
        "\n",
        "A **true positive** is an outcome where the model correctly predicts the positive class. Similarly, a **true negative** is an outcome where the model correctly predicts the negative class.\n",
        "\n",
        "A **false positive** is an outcome where the model incorrectly predicts the positive class. And a **false negative** is an outcome where the model incorrectly predicts the negative class."
      ]
    },
    {
      "cell_type": "markdown",
      "metadata": {
        "id": "CEJxpSnTDTQo"
      },
      "source": [
        "## Accuracy\n",
        "\n",
        "Accuracy is one metric for evaluating classification models. Informally, **accuracy** is the fraction of predictions our model got right. Formally, accuracy has the following definition:\n",
        "\n",
        "<div class=\"math-jax-block\">\n",
        "\n",
        "$\\mathrm{Accuracy} = \\dfrac{\\mathrm{Number\\ of\\ correct\\ predictions}}{\\mathrm{Total\\ number\\ of\\ predictions}}$\n",
        "\n",
        "</div>\n",
        "\n",
        "For binary classification, accuracy can also be calculated in terms of positives and negatives as follows:\n",
        "\n",
        "<div class=\"math-jax-block\">\n",
        "\n",
        "$\\mathrm{Accuracy} = \\dfrac{TP + TN}{TP + TN + FP + FN}$\n",
        "\n",
        "</div>\n",
        "\n",
        "Where *TP* = True Positives, *TN* = True Negatives, *FP* = False Positives, and *FN* = False Negatives."
      ]
    },
    {
      "cell_type": "markdown",
      "metadata": {
        "id": "NHxGOa5xEfI-"
      },
      "source": [
        "Let's try calculating accuracy for the following model that classified 100 tumors as [malignant](https://wikipedia.org/wiki/Malignancy) (the positive class) or [benign](https://wikipedia.org/wiki/Benign_tumor) (the negative class):\n",
        "\n",
        "* **True Positive (TP):**\n",
        "  * Reality: Malignant\n",
        "  * ML model predicted: Malignant\n",
        "  * **Number of TP results**: 1\n",
        "\n",
        "* **False Positive (FP):**\n",
        "  * Reality: Benign\n",
        "  * ML model predicted: Malignant\n",
        "  * **Number of TP results**: 1\n",
        "\n",
        "* **True Negative (TN):**\n",
        "  * Reality: Benign\n",
        "  * ML model predicted: Benign\n",
        "  * **Number of TP results**: 90\n",
        "\n",
        "* **False Negative (FN):**\n",
        "  * Reality: Malignant\n",
        "  * ML model predicted: Benign\n",
        "  * **Number of TP results**: 8"
      ]
    },
    {
      "cell_type": "markdown",
      "metadata": {
        "id": "ILz5mWZ_FS6X"
      },
      "source": [
        "<div class=\"math-jax-block\">\n",
        "\n",
        "$\\mathrm{Accuracy} = \\dfrac{TP + TN}{TP + TN + FP + FN} = \\dfrac{1 + 90}{1 + 90 + 1 + 8} = 0.91$\n",
        "\n",
        "</div>\n",
        "\n",
        "---\n",
        "\n",
        "\n",
        "\n",
        "Accuracy comes out to 0.91, or 91% (91 correct predictions out of 100 total examples). That means our tumor classifier is doing a great job of identifying malignancies, right?\n",
        "\n",
        "Actually, let's do a closer analysis of positives and negatives to gain more insight into our model's performance.\n",
        "\n",
        "Of the 100 tumor examples, 91 are benign (90 TNs and 1 FP) and 9 are malignant (1 TP and 8 FNs).\n",
        "\n",
        "Of the 91 benign tumors, the model correctly identifies 90 as benign. That's good. However, of the 9 malignant tumors, the model only correctly identifies 1 as malignant—a terrible outcome, as 8 out of 9 malignancies go undiagnosed!\n",
        "\n",
        "While 91% accuracy may seem good at first glance, another tumor-classifier model that always predicts benign would achieve the exact same accuracy (91/100 correct predictions) on our examples. In other words, our model is no better than one that has zero predictive ability to distinguish malignant tumors from benign tumors.\n",
        "\n",
        "Accuracy alone doesn't tell the full story when you're working with a **class-imbalanced data set**, like this one, where there is a significant disparity between the number of positive and negative labels."
      ]
    },
    {
      "cell_type": "markdown",
      "metadata": {
        "id": "bKMaum3yIz9J"
      },
      "source": [
        "## Precision and Recall"
      ]
    },
    {
      "cell_type": "markdown",
      "metadata": {
        "id": "FQdzXztXI4Y9"
      },
      "source": [
        "### Precision\n",
        "\n",
        "Precision attempts to answer the following question:\n",
        "\n",
        "```\n",
        "What proportion of positive identifications was actually correct?\n",
        "```\n",
        "\n",
        "Precision is defined as follows:\n",
        "\n",
        "<div class=\"math-jax-block\">\n",
        "\n",
        "$\\mathrm{Precision} = \\dfrac{TP}{TP + FP}$\n",
        "\n",
        "</div>\n",
        "\n",
        "Let's calculate precision for our ML model from the previous section that analyzes tumors:\n",
        "\n",
        "* **True Positives (TPs): 1**\n",
        "* **False Positives (FPs): 1**\n",
        "* **False Negatives (FNs): 8**\n",
        "* **True Negatives (TNs): 90**\n",
        "\n",
        "<div class=\"math-jax-block\">\n",
        "\n",
        "$\\mathrm{Precision} = \\dfrac{TP}{TP + FP} = \\dfrac{1}{1 + 1} = 0.5$\n",
        "\n",
        "</div>\n",
        "\n",
        "Our model has a precision of 0.5—in other words, when it predicts a tumor is malignant, it is correct 50% of the time."
      ]
    },
    {
      "cell_type": "markdown",
      "metadata": {
        "id": "Gl_VaBwGJyVC"
      },
      "source": [
        "### Recall\n",
        "\n",
        "**Recall** attempts to answer the following question:\n",
        "\n",
        "```\n",
        "What proportion of actual positives was identified correctly?\n",
        "```\n",
        "\n",
        "Mathematically, recall is defined as follows:\n",
        "\n",
        "$\\mathrm{Recall} = \\dfrac{TP}{TP + FN}$\n",
        "\n",
        "Let's calculate recall for our tumor classifier:\n",
        "\n",
        "* **True Positives (TPs): 1**\n",
        "* **False Positives (FPs): 1**\n",
        "* **False Negatives (FNs): 8**\n",
        "* **True Negatives (TNs): 90**\n",
        "\n",
        "<div class=\"math-jax-block\">\n",
        "\n",
        "$\\mathrm{Recall} = \\dfrac{TP}{TP + FN} = \\dfrac{1}{1 + 8} = 0.11$\n",
        "\n",
        "</div>\n",
        "\n",
        "Our model has a recall of 0.11—in other words, it correctly identifies 11% of all malignant tumors."
      ]
    },
    {
      "cell_type": "markdown",
      "metadata": {
        "id": "HY8NyJsLKs0B"
      },
      "source": [
        "### Precision and Recall: A Tug of War\n",
        "\n",
        "To fully evaluate the effectiveness of a model, you must examine both precision and recall. Unfortunately, precision and recall are often in tension. That is, improving precision typically reduces recall and vice versa. Explore this notion by looking at the following figure, which shows 30 predictions made by an email classification model. Those to the right of the classification threshold are classified as \"spam\", while those to the left are classified as \"not spam.\"\n",
        "\n",
        "<div align=\"center\">\n",
        "\n",
        "<img src=\"https://developers.google.com/static/machine-learning/crash-course/images/PrecisionVsRecallBase.svg\" />\n",
        "\n",
        "<strong>Figure 1. Classifying email messages as spam or not spam.</strong>\n",
        "\n",
        "</div>"
      ]
    },
    {
      "cell_type": "markdown",
      "metadata": {
        "id": "lafOngnuLHoe"
      },
      "source": [
        "Let's calculate precision and recall based on the results shown in Figure 1:\n",
        "\n",
        "* **True Positives (TP): 8**\n",
        "* **False Positives (FP): 2**\n",
        "* **False Negatives (FN): 3**\n",
        "* **True Negatives (TN): 17**\n",
        "\n",
        "Precision measures the percentage of **emails flagged as spam** that were correctly classified—that is, the percentage of dots to the right of the threshold line that are green in Figure 1:\n",
        "\n",
        "<div class=\"math-jax-block\">\n",
        "\n",
        "$\\mathrm{Precision} = \\dfrac{TP}{TP + FP} = \\dfrac{8}{8 + 2} = 0.8$\n",
        "\n",
        "</div>\n",
        "\n",
        "Recall measures the percentage of **actual spam emails** that were correctly classified—that is, the percentage of green dots that are to the right of the threshold line in Figure 1:\n",
        "\n",
        "<div class=\"math-jax-block\">\n",
        "\n",
        "$\\mathrm{Precision} = \\dfrac{TP}{TP + FN} = \\dfrac{8}{8 + 3} = 0.73$\n",
        "\n",
        "</div>"
      ]
    },
    {
      "cell_type": "markdown",
      "metadata": {
        "id": "1M-x4CE8MKmj"
      },
      "source": [
        "Figure 2 illustrates the effect of increasing the classification threshold.\n",
        "\n",
        "<div align=\"center\">\n",
        "\n",
        "<img src=\"https://developers.google.com/static/machine-learning/crash-course/images/PrecisionVsRecallRaiseThreshold.svg\" />\n",
        "\n",
        "<strong>Figure 2. Increasing classification threshold.</strong>\n",
        "\n",
        "</div>"
      ]
    },
    {
      "cell_type": "markdown",
      "metadata": {
        "id": "T4S7z1PbMVP9"
      },
      "source": [
        "The number of false positives decreases, but false negatives increase. As a result, precision increases, while recall decreases:\n",
        "\n",
        "* **True Positives (TP): 7**\n",
        "* **False Positives (FP): 1**\n",
        "* **False Negatives (FN): 4**\n",
        "* **True Negatives (TN): 18**\n",
        "\n",
        "<div class=\"math-jax-block\">\n",
        "\n",
        "$\\mathrm{Precision} = \\dfrac{TP}{TP + FP} = \\dfrac{7}{7 + 1} = 0.88$\n",
        "\n",
        "</div>\n",
        "\n",
        "<div class=\"math-jax-block\">\n",
        "\n",
        "$\\mathrm{Precision} = \\dfrac{TP}{TP + FN} = \\dfrac{7}{7 + 4} = 0.64$\n",
        "\n",
        "</div>"
      ]
    },
    {
      "cell_type": "markdown",
      "metadata": {
        "id": "HxGD4rILMrYp"
      },
      "source": [
        "Conversely, Figure 3 illustrates the effect of decreasing the classification threshold (from its original position in Figure 1).\n",
        "\n",
        "<div align=\"center\">\n",
        "\n",
        "<img src=\"https://developers.google.com/static/machine-learning/crash-course/images/PrecisionVsRecallLowerThreshold.svg\" />\n",
        "\n",
        "<strong>Figure 3. Decreasing classification threshold.</strong>\n",
        "\n",
        "</div>"
      ]
    },
    {
      "cell_type": "markdown",
      "metadata": {
        "id": "1rW7LFjjM39P"
      },
      "source": [
        "False positives increase, and false negatives decrease. As a result, this time, precision decreases and recall increases:\n",
        "\n",
        "* **True Positives (TP): 9**\n",
        "* **False Positives (FP): 3**\n",
        "* **False Negatives (FN): 2**\n",
        "* **True Negatives (TN): 16**\n",
        "\n",
        "<div class=\"math-jax-block\">\n",
        "\n",
        "$\\mathrm{Precision} = \\dfrac{TP}{TP + FP} = \\dfrac{9}{9 + 3} = 0.75$\n",
        "\n",
        "</div>\n",
        "\n",
        "<div class=\"math-jax-block\">\n",
        "\n",
        "$\\mathrm{Precision} = \\dfrac{TP}{TP + FN} = \\dfrac{9}{9 + 2} = 0.82$\n",
        "\n",
        "</div>\n",
        "\n",
        "Various metrics have been developed that rely on both precision and recall. For example, see [F1 score](https://wikipedia.org/wiki/F1_score)."
      ]
    },
    {
      "cell_type": "markdown",
      "metadata": {
        "id": "2VdE-uz2RK6V"
      },
      "source": [
        "## ROC Curve and AUC"
      ]
    },
    {
      "cell_type": "markdown",
      "metadata": {
        "id": "MNvPzfLWRXP-"
      },
      "source": [
        "### ROC Curve\n",
        "\n",
        "An **ROC curve (receiver operating characteristic curve)** is a graph showing the performance of a classification model at all classification thresholds. This curve plots two parameters:\n",
        "\n",
        "* True positive rate\n",
        "* False positive rate\n",
        "\n",
        "**True Positive Rate (TPR)** is a synonym for recall and is therefore defined as follows:\n",
        "\n",
        "$\\mathrm{TPR} = \\dfrac{TP}{TP + FN}$\n",
        "\n",
        "**False Positive Rate (FPR)** is defined as follows:\n",
        "\n",
        "$\\mathrm{FPR} = \\dfrac{FP}{FP + TN}$"
      ]
    },
    {
      "cell_type": "markdown",
      "metadata": {
        "id": "ap-mrLWdSI6z"
      },
      "source": [
        "An ROC curve plots TPR vs. FPR at different classification thresholds. Lowering the classification threshold classifies more items as positive, thus increasing both False Positives and True Positives. The following figure shows a typical ROC curve.\n",
        "\n",
        "<div align=\"center\">\n",
        "\n",
        "<img src=\"https://developers.google.com/static/machine-learning/crash-course/images/ROCCurve.svg\" width=\"400\" height=\"400\" />\n",
        "\n",
        "<strong>Figure 4. TP vs. FP rate at different classification thresholds.</strong>\n",
        "\n",
        "</div>"
      ]
    },
    {
      "cell_type": "markdown",
      "metadata": {
        "id": "13PGBuFwSSxy"
      },
      "source": [
        "To compute the points in an ROC curve, we could evaluate a logistic regression model many times with different classification thresholds, but this would be inefficient. Fortunately, there's an efficient, sorting-based algorithm that can provide this information for us, called AUC."
      ]
    },
    {
      "cell_type": "markdown",
      "metadata": {
        "id": "QVUsqcpbSrag"
      },
      "source": [
        "### AUC: Area Under the ROC Curve\n",
        "\n",
        "**AUC** stands for \"Area under the ROC Curve.\" That is, AUC measures the entire two-dimensional area underneath the entire ROC curve (think integral calculus) from (0,0) to (1,1).\n",
        "\n",
        "<div align=\"center\">\n",
        "\n",
        "<img src=\"https://developers.google.com/static/machine-learning/crash-course/images/AUC.svg\" width=\"400\" height=\"400\" />\n",
        "\n",
        "<strong>Figure 5. AUC (Area under the ROC Curve).</strong>\n",
        "\n",
        "</div>"
      ]
    },
    {
      "cell_type": "markdown",
      "metadata": {
        "id": "oAyf1QqgTJe9"
      },
      "source": [
        "AUC provides an aggregate measure of performance across all possible classification thresholds. One way of interpreting AUC is as the probability that the model ranks a random positive example more highly than a random negative example. For example, given the following examples, which are arranged from left to right in ascending order of logistic regression predictions:\n",
        "\n",
        "<div align=\"center\">\n",
        "\n",
        "<img src=\"https://developers.google.com/static/machine-learning/crash-course/images/AUCPredictionsRanked.svg\" />\n",
        "\n",
        "<strong>Figure 6. Predictions ranked in ascending order of logistic regression score.</strong>\n",
        "\n",
        "</div>"
      ]
    },
    {
      "cell_type": "markdown",
      "metadata": {
        "id": "kRtN5DlETSCg"
      },
      "source": [
        "AUC represents the probability that a random positive (green) example is positioned to the right of a random negative (red) example.\n",
        "\n",
        "AUC ranges in value from 0 to 1. A model whose predictions are 100% wrong has an AUC of 0.0; one whose predictions are 100% correct has an AUC of 1.0.\n",
        "\n",
        "AUC is desirable for the following two reasons:\n",
        "\n",
        "* AUC is **scale-invariant**. It measures how well predictions are ranked, rather than their absolute values.\n",
        "* AUC is **classification-threshold-invariant**. It measures the quality of the model's predictions irrespective of what classification threshold is chosen.\n",
        "\n",
        "However, both these reasons come with caveats, which may limit the usefulness of AUC in certain use cases:\n",
        "\n",
        "* **Scale invariance is not always desirable**. For example, sometimes we really do need well calibrated probability outputs, and AUC won’t tell us about that.\n",
        "\n",
        "* **Classification-threshold invariance is not always desirable**. In cases where there are wide disparities in the cost of false negatives vs. false positives, it may be critical to minimize one type of classification error. For example, when doing email spam detection, you likely want to prioritize minimizing false positives (even if that results in a significant increase of false negatives). AUC isn't a useful metric for this type of optimization."
      ]
    },
    {
      "cell_type": "markdown",
      "metadata": {
        "id": "Ad-HCIAB0sso"
      },
      "source": [
        "## Prediction Bias\n",
        "\n",
        "Logistic regression predictions should be unbiased. That is:\n",
        "\n",
        "```\n",
        "\"average of predictions\" should ≈ \"average of observations\"\n",
        "```\n",
        "\n",
        "**Prediction bias** is a quantity that measures how far apart those two averages are. That is:\n",
        "\n",
        "<div class=\"math-jax-block\">\n",
        "\n",
        "$\\mathrm{prediction\\ bias} = \\mathrm{average\\ of\\ predictions} - \\mathrm{average\\ of\\ labels\\ in\\ data\\ set}$\n",
        "\n",
        "</div>\n",
        "\n",
        "<small>**Note:** \"Prediction bias\" is a different quantity than [bias](https://developers.google.com/machine-learning/crash-course/descending-into-ml) (the b in wx + b).</small>\n",
        "\n",
        "A significant nonzero prediction bias tells you there is a bug somewhere in your model, as it indicates that the model is wrong about how frequently positive labels occur."
      ]
    },
    {
      "cell_type": "markdown",
      "metadata": {
        "id": "on8h_k3l1y7w"
      },
      "source": [
        "For example, let's say we know that on average, 1% of all emails are spam. If we don't know anything at all about a given email, we should predict that it's 1% likely to be spam. Similarly, a good spam model should predict on average that emails are 1% likely to be spam. (In other words, if we average the predicted likelihoods of each individual email being spam, the result should be 1%.) If instead, the model's average prediction is 20% likelihood of being spam, we can conclude that it exhibits prediction bias.\n",
        "\n",
        "Possible root causes of prediction bias are:\n",
        "\n",
        "* Incomplete feature set\n",
        "* Noisy data set\n",
        "* Buggy pipeline\n",
        "* Biased training sample\n",
        "* Overly strong regularization\n",
        "\n",
        "You might be tempted to correct prediction bias by post-processing the learned model—that is, by adding a **calibration layer** that adjusts your model's output to reduce the prediction bias. For example, if your model has +3% bias, you could add a calibration layer that lowers the mean prediction by 3%. However, adding a calibration layer is a bad idea for the following reasons:\n",
        "\n",
        "* You're fixing the symptom rather than the cause.\n",
        "* You've built a more brittle system that you must now keep up to date.\n",
        "\n",
        "If possible, avoid calibration layers. Projects that use calibration layers tend to become reliant on them—using calibration layers to fix all their model's sins. Ultimately, maintaining the calibration layers can become a nightmare.\n",
        "\n",
        "<small>**Note:** A good model will usually have near-zero bias. That said, a low prediction bias does not prove that your model is good. A really terrible model could have a zero prediction bias. For example, a model that just predicts the mean value for all examples would be a bad model, despite having zero bias.</small>"
      ]
    },
    {
      "cell_type": "markdown",
      "metadata": {
        "id": "5mB773Um2QPw"
      },
      "source": [
        "### Bucketing and Prediction Bias\n",
        "\n",
        "Logistic regression predicts a value between 0 and 1. However, all labeled examples are either exactly 0 (meaning, for example, \"not spam\") or exactly 1 (meaning, for example, \"spam\"). Therefore, when examining prediction bias, you cannot accurately determine the prediction bias based on only one example; you must examine the prediction bias on a \"bucket\" of examples. That is, prediction bias for logistic regression only makes sense when grouping enough examples together to be able to compare a predicted value (for example, 0.392) to observed values (for example, 0.394).\n",
        "\n",
        "You can form buckets in the following ways:\n",
        "\n",
        "* Linearly breaking up the target predictions.\n",
        "* Forming quantiles.\n",
        "\n",
        "Consider the following calibration plot from a particular model. Each dot represents a bucket of 1,000 values. The axes have the following meanings:\n",
        "\n",
        "* The x-axis represents the average of values the model predicted for that bucket.\n",
        "* The y-axis represents the actual average of values in the data set for that bucket.\n",
        "\n",
        "Both axes are logarithmic scales."
      ]
    },
    {
      "cell_type": "markdown",
      "metadata": {
        "id": "PR54j06J27Bc"
      },
      "source": [
        "<div align=\"center\">\n",
        "\n",
        "<img src=\"https://developers.google.com/static/machine-learning/crash-course/images/BucketingBias.svg\" />\n",
        "\n",
        "<strong>Figure 8. Prediction bias curve (logarithmic scales)</strong>\n",
        "\n",
        "</div>"
      ]
    },
    {
      "cell_type": "markdown",
      "metadata": {
        "id": "9Md-rJL93NOp"
      },
      "source": [
        "Why are the predictions so poor for only part of the model? Here are a few possibilities:\n",
        "\n",
        "* The training set doesn't adequately represent certain subsets of the data space.\n",
        "* Some subsets of the data set are noisier than others.\n",
        "* The model is overly [regularized](https://developers.google.com/machine-learning/crash-course/regularization-for-simplicity/video-lecture). (Consider reducing the value of [lambda](https://developers.google.com/machine-learning/glossary#lambda).)"
      ]
    },
    {
      "cell_type": "markdown",
      "metadata": {
        "id": "-5wkzdxjHGq1"
      },
      "source": [
        "# Regularization for Sparsity"
      ]
    },
    {
      "cell_type": "markdown",
      "metadata": {
        "id": "L_fZufC4HRF9"
      },
      "source": [
        "## L₁ Regularization\n",
        "\n",
        "Sparse vectors often contain many dimensions. Creating a [feature cross](https://developers.google.com/machine-learning/crash-course/feature-crosses/video-lecture) results in even more dimensions. Given such high-dimensional feature vectors, model size may become huge and require huge amounts of RAM.\n",
        "\n",
        "In a high-dimensional sparse vector, it would be nice to encourage weights to drop to exactly 0 where possible. A weight of exactly 0 essentially removes the corresponding feature from the model. Zeroing out features will save RAM and may reduce noise in the model.\n",
        "\n",
        "For example, consider a housing data set that covers not just California but the entire globe. Bucketing global latitude at the minute level (60 minutes per degree) gives about 10,000 dimensions in a sparse encoding; global longitude at the minute level gives about 20,000 dimensions. A feature cross of these two features would result in roughly 200,000,000 dimensions. Many of those 200,000,000 dimensions represent areas of such limited residence (for example, the middle of the ocean) that it would be difficult to use that data to generalize effectively. It would be silly to pay the RAM cost of storing these unneeded dimensions. Therefore, it would be nice to encourage the weights for the meaningless dimensions to drop to exactly 0, which would allow us to avoid paying for the storage cost of these model coefficients at inference time.\n",
        "\n",
        "We might be able to encode this idea into the optimization problem done at training time, by adding an appropriately chosen regularization term.\n",
        "\n",
        "Would $L_{2}$ regularization accomplish this task? Unfortunately not. $L_{2}$ regularization encourages weights to be small, but doesn't force them to exactly 0.0.\n",
        "\n",
        "An alternative idea would be to try and create a regularization term that penalizes the count of non-zero coefficient values in a model. Increasing this count would only be justified if there was a sufficient gain in the model's ability to fit the data. Unfortunately, while this count-based approach is intuitively appealing, it would turn our convex optimization problem into a non-convex optimization problem. So this idea, known as $L_{0}$ regularization isn't something we can use effectively in practice.\n",
        "\n",
        "However, there is a regularization term called $L_{1}$ regularization that serves as an approximation to $L_{0}$, but has the advantage of being convex and thus efficient to compute. So we can use $L_{1}$ regularization to encourage many of the uninformative coefficients in our model to be exactly 0, and thus reap RAM savings at inference time."
      ]
    },
    {
      "cell_type": "markdown",
      "metadata": {
        "id": "F5mVYgKiISr2"
      },
      "source": [
        "### $L_{1}$ vs. $L_{2}$ regularization\n",
        "\n",
        "$L_{2}$ and $L_{1}$ penalize weights differently:\n",
        "\n",
        "* $L_{2}$ penalizes $weight^2$.\n",
        "* $L_{1}$ penalizes $|weight|$.\n",
        "\n",
        "Consequently, $L_{2}$ and $L_{1}$ have different derivatives:\n",
        "\n",
        "* The derivative of $L_{2}$ is 2 * weight.\n",
        "* The derivative of $L_{1}$ is k (a constant, whose value is independent of weight).\n",
        "\n",
        "You can think of the derivative of $L_{2}$ as a force that removes x% of the weight every time. As [Zeno](https://en.wikipedia.org/wiki/Zeno's_paradoxes#Dichotomy_paradox) knew, even if you remove x percent of a number billions of times, the diminished number will still never quite reach zero. (Zeno was less familiar with floating-point precision limitations, which could possibly produce exactly zero.) At any rate, $L_{2}$ does not normally drive weights to zero.\n",
        "\n",
        "You can think of the derivative of $L_{1}$ as a force that subtracts some constant from the weight every time. However, thanks to absolute values, $L_{1}$ has a discontinuity at 0, which causes subtraction results that cross 0 to become zeroed out. For example, if subtraction would have forced a weight from +0.1 to -0.2, $L_{1}$ will set the weight to exactly 0. Eureka, $L_{1}$ zeroed out the weight.\n",
        "\n",
        "$L_{1}$ regularization—penalizing the absolute value of all the weights—turns out to be quite efficient for wide models.\n",
        "\n",
        "Note that this description is true for a one-dimensional model.\n",
        "\n",
        "To compare the results of $L_{1}$ and $L_{2}$ regularization on a network of weights, click the play button on the [playground](https://developers.google.com/machine-learning/crash-course/regularization-for-sparsity/l1-regularization#l1-vs.-l2-regularization.)."
      ]
    },
    {
      "cell_type": "markdown",
      "metadata": {
        "id": "4NqypZIFSGTh"
      },
      "source": [
        "# Neural Networks\n",
        "\n",
        "Neural networks are a more sophisticated version of feature crosses. In essence, neural networks learn the appropriate feature crosses for you."
      ]
    },
    {
      "cell_type": "markdown",
      "metadata": {
        "id": "97rlCF6ISRmJ"
      },
      "source": [
        "## Structure\n",
        "\n",
        "If you recall from the Feature Crosses unit, the following classification problem is nonlinear:\n",
        "\n",
        "<div align=\"center\">\n",
        "\n",
        "<img src=\"https://developers.google.com/machine-learning/crash-course/images/FeatureCrosses1.png\" />\n",
        "\n",
        "<strong>Figure 1. Nonlinear classification problem.</strong>\n",
        "\n",
        "</div>"
      ]
    },
    {
      "cell_type": "markdown",
      "metadata": {
        "id": "FKSI7D1_SfLx"
      },
      "source": [
        "\"Nonlinear\" means that you can't accurately predict a label with a model of the form $b + w_{1}x_{1} + w_{2}x_{2}$ In other words, the \"decision surface\" is not a line. Previously, we looked at feature crosses as one possible approach to modeling nonlinear problems.\n",
        "\n",
        "Now consider the following data set:\n",
        "\n",
        "<div align=\"center\">\n",
        "\n",
        "<img src=\"https://developers.google.com/machine-learning/crash-course/images/NonLinearSpiral.png\" />\n",
        "\n",
        "<strong>Figure 2. A more difficult nonlinear classification problem.</strong>\n",
        "\n",
        "</div>"
      ]
    },
    {
      "cell_type": "markdown",
      "metadata": {
        "id": "Uut9fir2S45v"
      },
      "source": [
        "The data set shown in Figure 2 can't be solved with a linear model.\n",
        "\n",
        "To see how neural networks might help with nonlinear problems, let's start by representing a linear model as a graph:\n",
        "\n",
        "<div align=\"center\">\n",
        "\n",
        "<img src=\"https://developers.google.com/static/machine-learning/crash-course/images/linear_net.svg\" />\n",
        "\n",
        "<strong>Figure 3. Linear model as graph.</strong>\n",
        "\n",
        "</div>"
      ]
    },
    {
      "cell_type": "markdown",
      "metadata": {
        "id": "qoqUz62BTB1q"
      },
      "source": [
        "Each blue circle represents an input feature, and the green circle represents the weighted sum of the inputs.\n",
        "\n",
        "How can we alter this model to improve its ability to deal with nonlinear problems?"
      ]
    },
    {
      "cell_type": "markdown",
      "metadata": {
        "id": "e-3bvwkeTKi-"
      },
      "source": [
        "### Hidden Layers\n",
        "\n",
        "In the model represented by the following graph, we've added a \"hidden layer\" of intermediary values. Each yellow node in the hidden layer is a weighted sum of the blue input node values. The output is a weighted sum of the yellow nodes."
      ]
    },
    {
      "cell_type": "markdown",
      "metadata": {
        "id": "uKhff6YTTQiS"
      },
      "source": [
        "<div align=\"center\">\n",
        "\n",
        "<img src=\"https://developers.google.com/static/machine-learning/crash-course/images/1hidden.svg\" height='400px' />\n",
        "<strong>Figure 4. Graph of two-layer model.</strong>\n",
        "\n",
        "</div>"
      ]
    },
    {
      "cell_type": "markdown",
      "metadata": {
        "id": "7HBebf58TWas"
      },
      "source": [
        "Is this model linear? Yes—its output is still a linear combination of its inputs.\n",
        "\n",
        "In the model represented by the following graph, we've added a second hidden layer of weighted sums."
      ]
    },
    {
      "cell_type": "markdown",
      "metadata": {
        "id": "f47cwNz-Tihy"
      },
      "source": [
        "<div align=\"center\">\n",
        "\n",
        "<img src=\"https://developers.google.com/static/machine-learning/crash-course/images/2hidden.svg\" height=\"400px\" />\n",
        "\n",
        "<strong>Figure 5. Graph of three-layer model.</strong>\n",
        "\n",
        "</div>"
      ]
    },
    {
      "cell_type": "markdown",
      "metadata": {
        "id": "SK9615nDTpG9"
      },
      "source": [
        "Is this model still linear? Yes, it is. When you express the output as a function of the input and simplify, you get just another weighted sum of the inputs. This sum won't effectively model the nonlinear problem in Figure 2."
      ]
    },
    {
      "cell_type": "markdown",
      "metadata": {
        "id": "1uIQpA6xT4c8"
      },
      "source": [
        "### Activation Functions\n",
        "\n",
        "To model a nonlinear problem, we can directly introduce a nonlinearity. We can pipe each hidden layer node through a nonlinear function.\n",
        "\n",
        "In the model represented by the following graph, the value of each node in Hidden Layer 1 is transformed by a nonlinear function before being passed on to the weighted sums of the next layer. This nonlinear function is called the activation function."
      ]
    },
    {
      "cell_type": "markdown",
      "metadata": {
        "id": "CQkM3x0hUARX"
      },
      "source": [
        "<div align=\"center\">\n",
        "\n",
        "<img src=\"https://developers.google.com/static/machine-learning/crash-course/images/activation.svg\" />\n",
        "\n",
        "<strong>Figure 6. Graph of three-layer model with activation function.</strong>\n",
        "\n",
        "</div>"
      ]
    },
    {
      "cell_type": "markdown",
      "metadata": {
        "id": "Avc7ghTeUIEY"
      },
      "source": [
        "Now that we've added an activation function, adding layers has more impact. Stacking nonlinearities on nonlinearities lets us model very complicated relationships between the inputs and the predicted outputs. In brief, each layer is effectively learning a more complex, higher-level function over the raw inputs. If you'd like to develop more intuition on how this works, see [Chris Olah's excellent blog post](http://colah.github.io/posts/2014-03-NN-Manifolds-Topology/)."
      ]
    },
    {
      "cell_type": "markdown",
      "metadata": {
        "id": "__iv1hztUUgp"
      },
      "source": [
        "### Common Activation Functions\n",
        "\n",
        "The following **sigmoid** activation function converts the weighted sum to a value between 0 and 1.\n",
        "\n",
        "$$F(x)=\\dfrac{1}{1 + e^{-x}}$$\n",
        "\n",
        "Here's a plot:\n",
        "\n",
        "<div align=\"center\">\n",
        "\n",
        "<img src=\"https://developers.google.com/static/machine-learning/crash-course/images/sigmoid.svg\" />\n",
        "\n",
        "<strong>Figure 7. Sigmoid activation function.</strong>\n",
        "\n",
        "</div>"
      ]
    },
    {
      "cell_type": "markdown",
      "metadata": {
        "id": "NNFYZdi1UsRx"
      },
      "source": [
        "The following **rectified linear unit** activation function (or **ReLU**, for short) often works a little better than a smooth function like the sigmoid, while also being significantly easier to compute.\n",
        "\n",
        "$$F(x) = max(0, x)$$\n",
        "\n",
        "The superiority of ReLU is based on empirical findings, probably driven by ReLU having a more useful range of responsiveness. A sigmoid's responsiveness falls off relatively quickly on both sides.\n",
        "\n",
        "<div align=\"center\">\n",
        "\n",
        "<img src=\"https://developers.google.com/static/machine-learning/crash-course/images/relu.svg\" />\n",
        "\n",
        "<strong>Figure 8. ReLU activation function.</strong>\n",
        "\n",
        "</div>"
      ]
    },
    {
      "cell_type": "markdown",
      "metadata": {
        "id": "cxUJAbvBVQLR"
      },
      "source": [
        "In fact, any mathematical function can serve as an activation function. Suppose that $\\sigma$ represents our activation function (Relu, Sigmoid, or whatever). Consequently, the value of a node in the network is given by the following formula:\n",
        "\n",
        "$$\\sigma(w.x + b)$$\n",
        "\n",
        "TensorFlow provides out-of-the-box support for many activation functions. You can find these activation functions within TensorFlow's [list of wrappers for primitive neural network operations](https://www.tensorflow.org/api_docs/python/tf/nn). That said, we still recommend starting with ReLU."
      ]
    },
    {
      "cell_type": "markdown",
      "metadata": {
        "id": "swQ8zofkVxUd"
      },
      "source": [
        "### Summary\n",
        "\n",
        "Now our model has all the standard components of what people usually mean when they say \"neural network\":\n",
        "\n",
        "* A set of nodes, analogous to neurons, organized in layers.\n",
        "* A set of weights representing the connections between each neural network layer and the layer beneath it. The layer beneath may be another neural network layer, or some other kind of layer.\n",
        "* A set of biases, one for each node.\n",
        "* An activation function that transforms the output of each node in a layer. Different layers may have different activation functions."
      ]
    }
  ],
  "metadata": {
    "colab": {
      "provenance": [],
      "toc_visible": true
    },
    "kernelspec": {
      "display_name": "Python 3 (ipykernel)",
      "language": "python",
      "name": "python3"
    },
    "language_info": {
      "codemirror_mode": {
        "name": "ipython",
        "version": 3
      },
      "file_extension": ".py",
      "mimetype": "text/x-python",
      "name": "python",
      "nbconvert_exporter": "python",
      "pygments_lexer": "ipython3",
      "version": "3.10.12"
    },
    "vscode": {
      "interpreter": {
        "hash": "d6f2081d9e0b7d32ecec298930d2c84146e44d12c2a59792b9d51f0a2535e83c"
      }
    }
  },
  "nbformat": 4,
  "nbformat_minor": 0
}