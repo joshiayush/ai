{
 "cells": [
  {
   "attachments": {},
   "cell_type": "markdown",
   "metadata": {},
   "source": [
    "# Pearson correlation coefficient\n",
    "\n",
    "In [statistics](https://en.wikipedia.org/wiki/Statistics), the __Pearson correlation coefficient__  ― also known as __Pearson's r__, the __Pearson product-moment correlation coefficient (PPMCC)__, the __bivariate correlation__, or colloquially simply as the __correlation coefficient__ ― is the measure of linear correlation between two sets of data."
   ]
  },
  {
   "attachments": {},
   "cell_type": "markdown",
   "metadata": {},
   "source": [
    "## Definition\n",
    "\n",
    "Pearson's correlation coefficient is the covariance of the two variables divided by the product of their standard deviations. The form of the definition involves a \"product moment\", that is, the mean of the product of the mean-adjusted random variables; hence the modifier product-moment in the name."
   ]
  },
  {
   "attachments": {},
   "cell_type": "markdown",
   "metadata": {},
   "source": [
    "### For a population\n",
    "\n",
    "Pearson's correlation coefficient, when applied to a [population](https://en.wikipedia.org/wiki/Statistical_population), is commonly represented by the Greek letter ρ (rho) and may be referred to as the _population correlation coefficient_ or the _population Pearson correlation coefficient_. Given a pair of random variables $(X, Y)$, the formula for ρ is:\n",
    "\n",
    "$$ρ_{X,Y}=\\dfrac{cov(X,Y)}{\\sigma_{X}\\sigma_{Y}}$$\n",
    "\n",
    "where:\n",
    "\n",
    "* __cov__ is the [covariance](https://en.wikipedia.org/wiki/Covariance).\n",
    "* $\\sigma_{X}$ is the [standard deviation](https://en.wikipedia.org/wiki/Standard_deviation) of $X$.\n",
    "* $\\sigma_{Y}$ is the [standard deviation](https://en.wikipedia.org/wiki/Standard_deviation) of $Y$.\n",
    "\n",
    "The formula for ρ can be expressed in terms of mean and expectation. Since\n",
    "\n",
    "$$cov(X,Y)=\\mathbb{E}[(X-μ_{X})(Y-μ_{Y})],$$\n",
    "\n",
    "the formula for ρ can also be written as\n",
    "\n",
    "$$ρ_{X,Y}=\\dfrac{\\mathbb{E}[(X-μ_{X})(Y-μ_{Y})]}{\\sigma_{X}\\sigma_{Y}}$$\n",
    "\n",
    "where:\n",
    "\n",
    "* $\\sigma_{X}$ and $\\sigma_{Y}$ are defined as above.\n",
    "* $μ_{X}$ is the [mean](https://en.wikipedia.org/wiki/Mean) of $X$.\n",
    "* $μ_{Y}$ is the [mean](https://en.wikipedia.org/wiki/Mean) of $Y$.\n",
    "* $\\mathbb{E}$ is the [expectation](https://en.wikipedia.org/wiki/Expected_Value).\n",
    "\n",
    "The formula for ρ can be expressed in terms of uncentered moments. Since\n",
    "\n",
    "* $μ_{X} = \\mathbb{E}[X]$\n",
    "* $μ_{Y} = \\mathbb{E}[Y]$\n",
    "* $\\sigma^{2}_{X} = \\mathbb{E}[(X-\\mathbb{E}[X])^{2}] = \\mathbb{E}[X^{2}] - (\\mathbb{E}[X])^{2}$\n",
    "* $\\sigma^{2}_{Y} = \\mathbb{E}[(Y-\\mathbb{E}[Y])^{2}] = \\mathbb{E}[Y^{2}] - (\\mathbb{E}[Y])^{2}$\n",
    "* $\\mathbb{E}[(X-μ_{X})(Y-μ_{Y})] = \\mathbb{E}[(X-\\mathbb{E}[X])(Y-\\mathbb{E}[Y])] = \\mathbb{E}[XY] - \\mathbb{E}[X]\\mathbb{E}[Y]$\n",
    "\n",
    "the formula for ρ can also be written as\n",
    "\n",
    "$$ρ_{X,Y} = \\dfrac{\\mathbb{E}[XY] - \\mathbb{E}[X]\\mathbb{E}[Y]}{\\sqrt{\\mathbb{E}[X^{2}] - (\\mathbb{E}[X])^{2}}\\sqrt{\\mathbb{E}[Y^{2}] - (\\mathbb{E}[Y])^{2}}}$$\n",
    "\n",
    "Pearson's correlation coefficient does not exist when either $\\sigma_{X}$ or $\\sigma_{Y}$ are zero, infinite, or undefined.",
    "\n",
    "https://github.com/joshiayush/ai/blob/master/ai/algos/correlation/pearson_correlation/pearson_correlation.py"
   ]
  }
 ],
 "metadata": {
  "kernelspec": {
   "display_name": "ai",
   "language": "python",
   "name": "python3"
  },
  "language_info": {
   "name": "python",
   "version": "3.8.10"
  },
  "orig_nbformat": 4,
  "vscode": {
   "interpreter": {
    "hash": "d6f2081d9e0b7d32ecec298930d2c84146e44d12c2a59792b9d51f0a2535e83c"
   }
  }
 },
 "nbformat": 4,
 "nbformat_minor": 2
}
